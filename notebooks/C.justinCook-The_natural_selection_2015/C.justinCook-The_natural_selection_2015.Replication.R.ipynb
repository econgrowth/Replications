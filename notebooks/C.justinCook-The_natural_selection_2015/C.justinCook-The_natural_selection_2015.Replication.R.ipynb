{
 "cells": [
  {
   "cell_type": "markdown",
   "metadata": {},
   "source": [
    "# <font color=blue>_THE NATURAL SELECTION OF INFECTIOUS DISEASE RESISTANCE AND ITS EFFECT ON CONTEMPORARY HEALTH- A replication study_\n",
    "## <font color=black> C. Justin Cook\n",
    "### _Review of Economics and Statistics Volume 97 | Issue 4 | October 2015 p.742-757_"
   ]
  },
  {
   "cell_type": "markdown",
   "metadata": {},
   "source": [
    "This study pretends to do a replication of _\"THE NATURAL SELECTION OF INFECTIOUS DISEASE RESISTANCE AND\n",
    "ITS EFFECT ON CONTEMPORARY HEALTH\"_ whose author is C. Justin Cook, an assistant Professor, Economics University of California, Merced. The replication data for paper is available [here](https://doi.org/10.7910/DVN/27669)\n",
    "\n",
    "The replication is done by Sara Ariza Murillo, a colombian economist from the Universidad del Rosario. This includes two jupyter notebooks:\n",
    "\n",
    "1. **Notebook one:** presents the stata do file of the author that replicates tables 2-7 within the paper. It also replicates in stata the figures of the paper that are not included in the author's do file.\n",
    "2. **Notebook two:** presents the code elaborated by Sara in R that replicates the tables within the paper. \n",
    "\n",
    "Both notebooks include a summary of the document.\n",
    "\n",
    "If there are any questions, please contact Sara Ariza at sara.ariza@urosario.edu.co"
   ]
  },
  {
   "cell_type": "markdown",
   "metadata": {},
   "source": [
    "### <font color=blue> Notebook two"
   ]
  },
  {
   "cell_type": "markdown",
   "metadata": {},
   "source": [
    "#### <font color=blue> Abstract\n",
    " _\"This paper empirically tests the association between genetically determined resistance to infectious disease and cross-country health differences. A country-level measure of genetic diversity for the system of genes associated with the recognition and disposal of foreign pathogens is constructed. Genetic diversity within this system has been shown to reduce the virulence and prevalence of infectious diseases and is hypothesized to have been naturally selected from historical exposure to infectious pathogens. Base estimation shows a statistically strong, robust, and positive relationship between this constructed measure and country-level health outcomes in times prior to, but not after, the international epidemiological transition\"_"
   ]
  },
  {
   "cell_type": "markdown",
   "metadata": {},
   "source": [
    "#### <font color=blue> I. Introduction\n",
    "<p style=\"text-align: justify;\"> Prior to the major medical discoveries associated with the international epidemiological transition, infectious diseases were a major determinant of mortality and subsequent differences in life expectancy across countries. (The discovery and widespread use of effective medicines (e.g., penicillin, streptomycin, a range of vaccines) in the late 1940s to early 1950s is labeled by Acemoglu and Johnson (2007) as the international epidemiological transition.)  \n",
    "   \n",
    "<p style=\"text-align: justify;\"> This paper answers the question what were the causes of the initial cross-country disparities in the virulence of infectious diseases? the above, by empirically investigating the role of genetically determined differences in resistance to infectious diseases \n",
    "    \n",
    "<p style=\"text-align: justify;\"> The main hyphotesis is that innate resistance did influence country-level response to infectious disease prior to the international epidemiological transition, but the effects of innate resistance are dissipated by more efficacious health technologies.\n",
    "\n",
    "<p style=\"text-align: justify;\"> The measure of genetic resistance is found within the human leukocyte antigen (HLA) system. "
   ]
  },
  {
   "cell_type": "markdown",
   "metadata": {},
   "source": [
    "##### The HLA system \n",
    "<p style=\"text-align: justify;\"> The HLA is responsible for locating foreign proteins in order to direct cells of the immune system to initiate an immune response and is broken into two major classes, class I and class II, with both classes being associated with the recognition of certain pathogens (Piertney&Oliver, 2006).\n",
    "\n",
    "Using country-level aggregations of ethnic-level genetic data, the author constructs a cross-country measure for diversity within the HLA system: HLA heterozygosity. He tests the hypothesis by estimating the association between country-level health measures (e.g., life expectancy at birth) and HLA heterozygosity in periods both prior to and after the international epidemiological transition \n"
   ]
  },
  {
   "cell_type": "code",
   "execution_count": 1,
   "metadata": {},
   "outputs": [
    {
     "name": "stdout",
     "output_type": "stream",
     "text": [
      "\f"
     ]
    }
   ],
   "source": [
    "rm(list=ls())\n",
    "cat(\"\\014\")"
   ]
  },
  {
   "cell_type": "code",
   "execution_count": 2,
   "metadata": {},
   "outputs": [
    {
     "name": "stdout",
     "output_type": "stream",
     "text": [
      "package 'lmtest' successfully unpacked and MD5 sums checked\n"
     ]
    },
    {
     "name": "stderr",
     "output_type": "stream",
     "text": [
      "Warning message:\n",
      "\"cannot remove prior installation of package 'lmtest'\"Warning message in file.copy(savedcopy, lib, recursive = TRUE):\n",
      "\"problema al copiar C:\\Users\\USUARIO\\anaconda3\\envs\\GeoPython38env\\Lib\\R\\library\\00LOCK\\lmtest\\libs\\x64\\lmtest.dll  a C:\\Users\\USUARIO\\anaconda3\\envs\\GeoPython38env\\Lib\\R\\library\\lmtest\\libs\\x64\\lmtest.dll: Permission denied\"Warning message:\n",
      "\"restored 'lmtest'\""
     ]
    },
    {
     "name": "stdout",
     "output_type": "stream",
     "text": [
      "\n",
      "The downloaded binary packages are in\n",
      "\tC:\\Users\\USUARIO\\AppData\\Local\\Temp\\RtmpsvIWcj\\downloaded_packages\n",
      "package 'sandwich' successfully unpacked and MD5 sums checked\n",
      "\n",
      "The downloaded binary packages are in\n",
      "\tC:\\Users\\USUARIO\\AppData\\Local\\Temp\\RtmpsvIWcj\\downloaded_packages\n",
      "package 'stargazer' successfully unpacked and MD5 sums checked\n",
      "\n",
      "The downloaded binary packages are in\n",
      "\tC:\\Users\\USUARIO\\AppData\\Local\\Temp\\RtmpsvIWcj\\downloaded_packages\n",
      "package 'data.table' successfully unpacked and MD5 sums checked\n"
     ]
    },
    {
     "name": "stderr",
     "output_type": "stream",
     "text": [
      "Warning message:\n",
      "\"cannot remove prior installation of package 'data.table'\"Warning message in file.copy(savedcopy, lib, recursive = TRUE):\n",
      "\"problema al copiar C:\\Users\\USUARIO\\anaconda3\\envs\\GeoPython38env\\Lib\\R\\library\\00LOCK\\data.table\\libs\\x64\\datatable.dll  a C:\\Users\\USUARIO\\anaconda3\\envs\\GeoPython38env\\Lib\\R\\library\\data.table\\libs\\x64\\datatable.dll: Permission denied\"Warning message:\n",
      "\"restored 'data.table'\""
     ]
    },
    {
     "name": "stdout",
     "output_type": "stream",
     "text": [
      "\n",
      "The downloaded binary packages are in\n",
      "\tC:\\Users\\USUARIO\\AppData\\Local\\Temp\\RtmpsvIWcj\\downloaded_packages\n"
     ]
    }
   ],
   "source": [
    "install.packages(\"lmtest\")\n",
    "install.packages(\"sandwich\")\n",
    "install.packages(\"stargazer\")\n",
    "install.packages(\"data.table\")"
   ]
  },
  {
   "cell_type": "code",
   "execution_count": 3,
   "metadata": {},
   "outputs": [
    {
     "name": "stderr",
     "output_type": "stream",
     "text": [
      "Warning message:\n",
      "\"package 'lmtest' was built under R version 3.6.3\"Loading required package: zoo\n",
      "Warning message:\n",
      "\"package 'zoo' was built under R version 3.6.3\"\n",
      "Attaching package: 'zoo'\n",
      "\n",
      "The following objects are masked from 'package:base':\n",
      "\n",
      "    as.Date, as.Date.numeric\n",
      "\n",
      "Warning message:\n",
      "\"package 'sandwich' was built under R version 3.6.3\"\n",
      "Please cite as: \n",
      "\n",
      " Hlavac, Marek (2018). stargazer: Well-Formatted Regression and Summary Statistics Tables.\n",
      " R package version 5.2.2. https://CRAN.R-project.org/package=stargazer \n",
      "\n",
      "Warning message:\n",
      "\"package 'data.table' was built under R version 3.6.3\""
     ]
    }
   ],
   "source": [
    "library(lmtest)\n",
    "library(sandwich)\n",
    "library(stargazer)\n",
    "library(data.table)"
   ]
  },
  {
   "cell_type": "code",
   "execution_count": 4,
   "metadata": {},
   "outputs": [],
   "source": [
    "dir1 <-(\"./raw/\") #the directory where the base is\n",
    "setwd(dir1)"
   ]
  },
  {
   "cell_type": "code",
   "execution_count": 5,
   "metadata": {},
   "outputs": [],
   "source": [
    "hla_country_web <- read.delim(\"hla_country_web.tab\", header=TRUE)\n"
   ]
  },
  {
   "cell_type": "code",
   "execution_count": 6,
   "metadata": {},
   "outputs": [
    {
     "name": "stdout",
     "output_type": "stream",
     "text": [
      "\n",
      "===============================================================================\n",
      "Statistic       N    Mean    St. Dev.     Min    Pctl(25)  Pctl(75)     Max    \n",
      "-------------------------------------------------------------------------------\n",
      "ln_hla_het     175  -1.158     0.093    -1.560    -1.174    -1.109     -1.042  \n",
      "hla_het        175   0.315     0.027     0.210     0.309     0.330     0.353   \n",
      "ln_mort40      89   -1.095     0.802    -3.507    -1.619    -0.477     0.181   \n",
      "ln_le40        87    3.820     0.253     3.292     3.620     4.039     4.215   \n",
      "ln_le50        155   3.893     0.250     3.401     3.665     4.116     4.286   \n",
      "ln_le60        158   3.975     0.223     3.438     3.790     4.175     4.298   \n",
      "ln_le70        160   4.047     0.205     3.525     3.906     4.224     4.313   \n",
      "ln_le80        159   4.112     0.178     3.654     4.010     4.252     4.332   \n",
      "ln_le90        159   4.157     0.175     3.491     4.083     4.275     4.367   \n",
      "ln_le00        160   4.185     0.174     3.682     4.117     4.306     4.395   \n",
      "ln_le10        159   4.231     0.153     3.858     4.174     4.332     4.418   \n",
      "europe         171   0.240     0.428     0.000     0.000     0.000     1.000   \n",
      "asia           171   0.246     0.432     0.000     0.000     0.000     1.000   \n",
      "africa         171   0.246     0.432     0.000     0.000     0.000     1.000   \n",
      "americas       171   0.211     0.409     0.000     0.000     0.000     1.000   \n",
      "oceania        171   0.058     0.235     0.000     0.000     0.000     1.000   \n",
      "frac_eur       175   0.344     0.422     0.000     0.000     0.928     1.000   \n",
      "frac_me        175   0.155     0.327     0.000     0.000     0.031     1.000   \n",
      "frac_easia     172   0.139     0.316     0.000     0.000     0.012     1.000   \n",
      "frac_africa    175   0.268     0.416       0         0        0.6        1     \n",
      "frac_am        175   0.046     0.148       0         0         0         1     \n",
      "frac_oc        175   0.044     0.186       0         0         0         1     \n",
      "aa_ln_atd      147   8.496     0.463     7.164     8.205     8.857     9.247   \n",
      "aa_atd         147 5,503.902 2,129.866 1,356.990 3,865.574 7,105.059 10,403.160\n",
      "aa_mdist       150   6.520     3.496     1.193     4.276     7.502     19.390  \n",
      "aa_mdist_sqr   150  62.027    79.294     1.423    18.456    64.049    442.036  \n",
      "aa_lanim       100   1.326     0.973     0.000     0.061     2.301     2.303   \n",
      "aa_lpd1        124   0.452     1.229    -2.535    -0.441     1.540     3.114   \n",
      "ln_frac        170   0.335     0.180     0.000     0.171     0.491     0.658   \n",
      "ln_arable      167   2.249     1.227    -2.659     1.568     3.094     4.129   \n",
      "ln_suitavg     141  -1.329     1.232    -5.809    -1.661    -0.580     -0.041  \n",
      "ln_abslat      170   2.971     0.936     0.000     2.565     3.711     4.174   \n",
      "aa_pdiv        150   0.725     0.026     0.628     0.718     0.742     0.765   \n",
      "malfal         148   0.280     0.409     0.000     0.000     0.597     1.000   \n",
      "tropical       173  41.897    46.000     0.000     0.000    100.000   100.000  \n",
      "desert         173   2.233     7.479     0.000     0.000     0.000     55.087  \n",
      "distcr1000     143   0.308     0.418     0.008     0.053     0.347     2.292   \n",
      "frac_migrant   150   0.260     0.339     0.000     0.018     0.410     1.000   \n",
      "pnativ_60      150   0.740     0.339     0.000     0.590     0.982     1.000   \n",
      "ln_ypc60       164   7.996     0.940     6.052     7.308     8.653     10.792  \n",
      "ln_yr_sch1960  130   0.981     0.907    -2.008     0.285     1.639     2.305   \n",
      "ln_pd60        153   3.333     1.542    -0.487     2.393     4.419     7.990   \n",
      "ln_urb60       162   3.270     0.857     0.693     2.824     3.846     4.605   \n",
      "ln_young       159   3.635     0.215     3.058     3.537     3.779     3.904   \n",
      "ln_mix_het     175  -1.130     0.088    -1.558    -1.138    -1.085     -1.039  \n",
      "oecd           171   0.175     0.381     0.000     0.000     0.000     1.000   \n",
      "fstdistwtd_usa 164   9.722     5.240     3.145     4.855    12.999     20.880  \n",
      "-------------------------------------------------------------------------------\n"
     ]
    }
   ],
   "source": [
    "#############################\n",
    "##########TABLA1#############\n",
    "#############################\n",
    "\n",
    "data<-data.table(hla_country_web)\n",
    "stargazer(data,type=\"text\")\n"
   ]
  },
  {
   "cell_type": "code",
   "execution_count": 7,
   "metadata": {},
   "outputs": [
    {
     "data": {
      "text/plain": [
       "\n",
       "Call:\n",
       "lm(formula = ln_hla_het ~ aa_ln_atd, data = hla_country_web, \n",
       "    subset = aa_mdist != \"NA\" & ln_le60 != \"NA\" & ln_hla_het != \n",
       "        \"NA\" & ln_frac != \"NA \" & ln_abslat != \"NA\" & ln_arable != \n",
       "        \"NA\" & ln_suitavg != \"NA\" & aa_ln_atd != \"NA\" & ln_le60 != \n",
       "        \"NA\")\n",
       "\n",
       "Residuals:\n",
       "     Min       1Q   Median       3Q      Max \n",
       "-0.29871 -0.02954  0.01560  0.04933  0.09588 \n",
       "\n",
       "Coefficients:\n",
       "            Estimate Std. Error t value Pr(>|t|)    \n",
       "(Intercept) -1.32606    0.10613  -12.49   <2e-16 ***\n",
       "aa_ln_atd    0.02114    0.01251    1.69   0.0934 .  \n",
       "---\n",
       "Signif. codes:  0 '***' 0.001 '**' 0.01 '*' 0.05 '.' 0.1 ' ' 1\n",
       "\n",
       "Residual standard error: 0.06738 on 129 degrees of freedom\n",
       "  (44 observations deleted due to missingness)\n",
       "Multiple R-squared:  0.02166,\tAdjusted R-squared:  0.01408 \n",
       "F-statistic: 2.856 on 1 and 129 DF,  p-value: 0.09344\n"
      ]
     },
     "metadata": {},
     "output_type": "display_data"
    },
    {
     "data": {
      "text/plain": [
       "    Estimate          Std. Error          t value           Pr(>|t|)       \n",
       " Min.   :-1.32606   Min.   :0.009805   Min.   :-15.660   Min.   :0.000000  \n",
       " 1st Qu.:-0.98926   1st Qu.:0.028523   1st Qu.:-11.206   1st Qu.:0.008225  \n",
       " Median :-0.65246   Median :0.047241   Median : -6.752   Median :0.016449  \n",
       " Mean   :-0.65246   Mean   :0.047241   Mean   : -6.752   Mean   :0.016449  \n",
       " 3rd Qu.:-0.31566   3rd Qu.:0.065960   3rd Qu.: -2.298   3rd Qu.:0.024674  \n",
       " Max.   : 0.02114   Max.   :0.084678   Max.   :  2.157   Max.   :0.032899  "
      ]
     },
     "metadata": {},
     "output_type": "display_data"
    },
    {
     "data": {
      "text/plain": [
       "\n",
       "Call:\n",
       "lm(formula = ln_hla_het ~ aa_ln_atd + aa_mdist, data = hla_country_web, \n",
       "    subset = aa_mdist != \"NA\" & ln_le60 != \"NA\" & ln_hla_het != \n",
       "        \"NA\" & ln_frac != \"NA \" & ln_abslat != \"NA\" & ln_arable != \n",
       "        \"NA\" & ln_suitavg != \"NA\" & aa_ln_atd != \"NA\" & ln_le60 != \n",
       "        \"NA\")\n",
       "\n",
       "Residuals:\n",
       "      Min        1Q    Median        3Q       Max \n",
       "-0.189302 -0.028152  0.003329  0.033802  0.138810 \n",
       "\n",
       "Coefficients:\n",
       "             Estimate Std. Error t value Pr(>|t|)    \n",
       "(Intercept) -1.321902   0.081579 -16.204  < 2e-16 ***\n",
       "aa_ln_atd    0.029984   0.009661   3.104  0.00235 ** \n",
       "aa_mdist    -0.012063   0.001269  -9.505  < 2e-16 ***\n",
       "---\n",
       "Signif. codes:  0 '***' 0.001 '**' 0.01 '*' 0.05 '.' 0.1 ' ' 1\n",
       "\n",
       "Residual standard error: 0.05179 on 128 degrees of freedom\n",
       "  (44 observations deleted due to missingness)\n",
       "Multiple R-squared:  0.4265,\tAdjusted R-squared:  0.4175 \n",
       "F-statistic: 47.59 on 2 and 128 DF,  p-value: 3.522e-16\n"
      ]
     },
     "metadata": {},
     "output_type": "display_data"
    },
    {
     "data": {
      "text/plain": [
       "    Estimate          Std. Error          t value           Pr(>|t|)        \n",
       " Min.   :-1.32190   Min.   :0.001422   Min.   :-18.110   Min.   :0.0000000  \n",
       " 1st Qu.:-0.66698   1st Qu.:0.005030   1st Qu.:-13.295   1st Qu.:0.0000000  \n",
       " Median :-0.01206   Median :0.008638   Median : -8.481   Median :0.0000000  \n",
       " Mean   :-0.43466   Mean   :0.027685   Mean   : -7.707   Mean   :0.0002357  \n",
       " 3rd Qu.: 0.00896   3rd Qu.:0.040816   3rd Qu.: -2.505   3rd Qu.:0.0003536  \n",
       " Max.   : 0.02998   Max.   :0.072994   Max.   :  3.471   Max.   :0.0007072  "
      ]
     },
     "metadata": {},
     "output_type": "display_data"
    },
    {
     "data": {
      "text/plain": [
       "\n",
       "Call:\n",
       "lm(formula = ln_hla_het ~ aa_lanim, data = hla_country_web, subset = aa_mdist != \n",
       "    \"NA\" & ln_le60 != \"NA\" & ln_hla_het != \"NA\" & ln_frac != \n",
       "    \"NA \" & ln_abslat != \"NA\" & ln_arable != \"NA\" & ln_suitavg != \n",
       "    \"NA\" & aa_ln_atd != \"NA\" & ln_le60 != \"NA\")\n",
       "\n",
       "Residuals:\n",
       "     Min       1Q   Median       3Q      Max \n",
       "-0.28924 -0.03132  0.01314  0.05735  0.08659 \n",
       "\n",
       "Coefficients:\n",
       "             Estimate Std. Error t value Pr(>|t|)    \n",
       "(Intercept) -1.189394   0.012819 -92.780   <2e-16 ***\n",
       "aa_lanim     0.026613   0.007815   3.406    0.001 ** \n",
       "---\n",
       "Signif. codes:  0 '***' 0.001 '**' 0.01 '*' 0.05 '.' 0.1 ' ' 1\n",
       "\n",
       "Residual standard error: 0.07228 on 87 degrees of freedom\n",
       "  (86 observations deleted due to missingness)\n",
       "Multiple R-squared:  0.1176,\tAdjusted R-squared:  0.1075 \n",
       "F-statistic:  11.6 on 1 and 87 DF,  p-value: 0.001001\n"
      ]
     },
     "metadata": {},
     "output_type": "display_data"
    },
    {
     "data": {
      "text/plain": [
       "    Estimate          Std. Error          t value          Pr(>|t|)        \n",
       " Min.   :-1.18939   Min.   :0.006444   Min.   :-94.03   Min.   :0.000e+00  \n",
       " 1st Qu.:-0.88539   1st Qu.:0.007995   1st Qu.:-69.49   1st Qu.:2.078e-05  \n",
       " Median :-0.58139   Median :0.009546   Median :-44.95   Median :4.157e-05  \n",
       " Mean   :-0.58139   Mean   :0.009546   Mean   :-44.95   Mean   :4.157e-05  \n",
       " 3rd Qu.:-0.27739   3rd Qu.:0.011097   3rd Qu.:-20.41   3rd Qu.:6.235e-05  \n",
       " Max.   : 0.02661   Max.   :0.012649   Max.   :  4.13   Max.   :8.314e-05  "
      ]
     },
     "metadata": {},
     "output_type": "display_data"
    },
    {
     "data": {
      "text/plain": [
       "\n",
       "Call:\n",
       "lm(formula = ln_hla_het ~ aa_lanim + aa_mdist, data = hla_country_web, \n",
       "    subset = aa_mdist != \"NA\" & ln_hla_het != \"NA\" & ln_frac != \n",
       "        \"NA \" & ln_abslat != \"NA\" & ln_arable != \"NA\" & ln_suitavg != \n",
       "        \"NA\" & aa_ln_atd != \"NA\" & ln_le60 != \"NA\")\n",
       "\n",
       "Residuals:\n",
       "      Min        1Q    Median        3Q       Max \n",
       "-0.173322 -0.027746  0.009552  0.035496  0.127879 \n",
       "\n",
       "Coefficients:\n",
       "             Estimate Std. Error t value Pr(>|t|)    \n",
       "(Intercept) -1.109316   0.011777 -94.190  < 2e-16 ***\n",
       "aa_lanim     0.036053   0.005395   6.683 2.22e-09 ***\n",
       "aa_mdist    -0.013321   0.001318 -10.110 2.73e-16 ***\n",
       "---\n",
       "Signif. codes:  0 '***' 0.001 '**' 0.01 '*' 0.05 '.' 0.1 ' ' 1\n",
       "\n",
       "Residual standard error: 0.04914 on 86 degrees of freedom\n",
       "  (86 observations deleted due to missingness)\n",
       "Multiple R-squared:  0.5968,\tAdjusted R-squared:  0.5874 \n",
       "F-statistic: 63.65 on 2 and 86 DF,  p-value: < 2.2e-16\n"
      ]
     },
     "metadata": {},
     "output_type": "display_data"
    },
    {
     "data": {
      "text/plain": [
       "    Estimate          Std. Error          t value             Pr(>|t|)        \n",
       " Min.   :-1.10932   Min.   :0.001494   Min.   :-102.9112   Min.   :0.000e+00  \n",
       " 1st Qu.:-0.56132   1st Qu.:0.003295   1st Qu.: -55.9145   1st Qu.:3.620e-14  \n",
       " Median :-0.01332   Median :0.005096   Median :  -8.9177   Median :7.240e-14  \n",
       " Mean   :-0.36219   Mean   :0.005790   Mean   : -34.9181   Mean   :1.258e-10  \n",
       " 3rd Qu.: 0.01137   3rd Qu.:0.007938   3rd Qu.:  -0.9215   3rd Qu.:1.887e-10  \n",
       " Max.   : 0.03605   Max.   :0.010779   Max.   :   7.0747   Max.   :3.773e-10  "
      ]
     },
     "metadata": {},
     "output_type": "display_data"
    },
    {
     "data": {
      "text/plain": [
       "\n",
       "Call:\n",
       "lm(formula = ln_hla_het ~ aa_lpd1, data = hla_country_web, subset = aa_mdist != \n",
       "    \"NA\" & ln_hla_het != \"NA\" & ln_frac != \"NA \" & ln_abslat != \n",
       "    \"NA\" & ln_arable != \"NA\" & ln_suitavg != \"NA\" & aa_ln_atd != \n",
       "    \"NA\" & ln_le60 != \"NA\")\n",
       "\n",
       "Residuals:\n",
       "     Min       1Q   Median       3Q      Max \n",
       "-0.28985 -0.02536  0.01560  0.04899  0.09343 \n",
       "\n",
       "Coefficients:\n",
       "             Estimate Std. Error  t value Pr(>|t|)    \n",
       "(Intercept) -1.154714   0.006867 -168.154   <2e-16 ***\n",
       "aa_lpd1      0.014363   0.005273    2.724   0.0075 ** \n",
       "---\n",
       "Signif. codes:  0 '***' 0.001 '**' 0.01 '*' 0.05 '.' 0.1 ' ' 1\n",
       "\n",
       "Residual standard error: 0.06849 on 111 degrees of freedom\n",
       "  (62 observations deleted due to missingness)\n",
       "Multiple R-squared:  0.06264,\tAdjusted R-squared:  0.0542 \n",
       "F-statistic: 7.418 on 1 and 111 DF,  p-value: 0.007501\n"
      ]
     },
     "metadata": {},
     "output_type": "display_data"
    },
    {
     "data": {
      "text/plain": [
       "    Estimate          Std. Error          t value            Pr(>|t|)        \n",
       " Min.   :-1.15471   Min.   :0.004286   Min.   :-155.386   Min.   :0.0000000  \n",
       " 1st Qu.:-0.86245   1st Qu.:0.005073   1st Qu.:-115.702   1st Qu.:0.0002755  \n",
       " Median :-0.57018   Median :0.005859   Median : -76.017   Median :0.0005510  \n",
       " Mean   :-0.57018   Mean   :0.005859   Mean   : -76.017   Mean   :0.0005510  \n",
       " 3rd Qu.:-0.27791   3rd Qu.:0.006645   3rd Qu.: -36.333   3rd Qu.:0.0008265  \n",
       " Max.   : 0.01436   Max.   :0.007431   Max.   :   3.351   Max.   :0.0011020  "
      ]
     },
     "metadata": {},
     "output_type": "display_data"
    },
    {
     "data": {
      "text/plain": [
       "\n",
       "Call:\n",
       "lm(formula = ln_hla_het ~ aa_lpd1 + aa_mdist, data = hla_country_web, \n",
       "    subset = aa_mdist != \"NA\" & ln_hla_het != \"NA\" & ln_frac != \n",
       "        \"NA \" & ln_abslat != \"NA\" & ln_arable != \"NA\" & ln_suitavg != \n",
       "        \"NA\" & aa_ln_atd != \"NA\" & ln_le60 != \"NA\")\n",
       "\n",
       "Residuals:\n",
       "      Min        1Q    Median        3Q       Max \n",
       "-0.180134 -0.026307  0.008982  0.032460  0.114983 \n",
       "\n",
       "Coefficients:\n",
       "             Estimate Std. Error  t value Pr(>|t|)    \n",
       "(Intercept) -1.072103   0.010613 -101.019  < 2e-16 ***\n",
       "aa_lpd1      0.015834   0.004032    3.927  0.00015 ***\n",
       "aa_mdist    -0.012383   0.001383   -8.955 9.65e-15 ***\n",
       "---\n",
       "Signif. codes:  0 '***' 0.001 '**' 0.01 '*' 0.05 '.' 0.1 ' ' 1\n",
       "\n",
       "Residual standard error: 0.05233 on 110 degrees of freedom\n",
       "  (62 observations deleted due to missingness)\n",
       "Multiple R-squared:  0.4578,\tAdjusted R-squared:  0.448 \n",
       "F-statistic: 46.45 on 2 and 110 DF,  p-value: 2.381e-15\n"
      ]
     },
     "metadata": {},
     "output_type": "display_data"
    },
    {
     "data": {
      "text/plain": [
       "    Estimate           Std. Error          t value            Pr(>|t|)        \n",
       " Min.   :-1.072104   Min.   :0.001501   Min.   :-107.000   Min.   :0.000e+00  \n",
       " 1st Qu.:-0.542243   1st Qu.:0.002379   1st Qu.: -57.625   1st Qu.:0.000e+00  \n",
       " Median :-0.012383   Median :0.003258   Median :  -8.250   Median :0.000e+00  \n",
       " Mean   :-0.356217   Mean   :0.004926   Mean   : -36.796   Mean   :1.304e-06  \n",
       " 3rd Qu.: 0.001726   3rd Qu.:0.006639   3rd Qu.:  -1.695   3rd Qu.:1.956e-06  \n",
       " Max.   : 0.015834   Max.   :0.010020   Max.   :   4.861   Max.   :3.912e-06  "
      ]
     },
     "metadata": {},
     "output_type": "display_data"
    }
   ],
   "source": [
    "##############################################################################\n",
    "########## TABLE_2: Historic Determinants of HLA Heterozygosity  #############\n",
    "##############################################################################\n",
    "\n",
    "regt1_1<-lm(ln_hla_het~aa_ln_atd,subset=aa_mdist!=\"NA\" & ln_le60!=\"NA\" & ln_hla_het!=\"NA\" & ln_frac!=\"NA \"& ln_abslat!=\"NA\" & ln_arable!=\"NA\" & ln_suitavg!=\"NA\" & aa_ln_atd!=\"NA\" & ln_le60!=\"NA\",data=hla_country_web)\n",
    "regt1_1robust<-coeftest(regt1_1, vcov = vcovHC(regt1_1, type=\"HC1\"))\n",
    "summary(regt1_1)\n",
    "summary(regt1_1robust)\n",
    "\n",
    "regt1_2<-lm(ln_hla_het~aa_ln_atd+aa_mdist,subset=aa_mdist!=\"NA\" & ln_le60!=\"NA\" & ln_hla_het!=\"NA\" & ln_frac!=\"NA \"& ln_abslat!=\"NA\" & ln_arable!=\"NA\" & ln_suitavg!=\"NA\" & aa_ln_atd!=\"NA\" & ln_le60!=\"NA\" ,data=hla_country_web)\n",
    "regt1_2robust<-coeftest(regt1_2, vcov = vcovHC(regt1_2, type=\"HC1\"))\n",
    "summary(regt1_2)\n",
    "summary(regt1_2robust)\n",
    "\n",
    "regt1_3<-lm(ln_hla_het~aa_lanim,subset=aa_mdist!=\"NA\" & ln_le60!=\"NA\" & ln_hla_het!=\"NA\" & ln_frac!=\"NA \"& ln_abslat!=\"NA\" & ln_arable!=\"NA\" & ln_suitavg!=\"NA\" & aa_ln_atd!=\"NA\" & ln_le60!=\"NA\" ,data=hla_country_web)\n",
    "regt1_3robust<-coeftest(regt1_3, vcov = vcovHC(regt1_3, type=\"HC1\"))\n",
    "summary(regt1_3)\n",
    "summary(regt1_3robust)\n",
    "\n",
    "regt1_4<-lm(ln_hla_het~aa_lanim+aa_mdist,subset=aa_mdist!=\"NA\" & ln_hla_het!=\"NA\" & ln_frac!=\"NA \"& ln_abslat!=\"NA\" & ln_arable!=\"NA\" & ln_suitavg!=\"NA\" & aa_ln_atd!=\"NA\" & ln_le60!=\"NA\" ,data=hla_country_web)\n",
    "regt1_4robust<-coeftest(regt1_4, vcov = vcovHC(regt1_4, type=\"HC1\"))\n",
    "summary(regt1_4)\n",
    "summary(regt1_4robust)\n",
    "\n",
    "regt1_5<-lm(ln_hla_het~aa_lpd1,subset=aa_mdist!=\"NA\"  & ln_hla_het!=\"NA\" & ln_frac!=\"NA \"& ln_abslat!=\"NA\" & ln_arable!=\"NA\" & ln_suitavg!=\"NA\" & aa_ln_atd!=\"NA\" & ln_le60!=\"NA\" ,data=hla_country_web)\n",
    "regt1_5robust<-coeftest(regt1_5, vcov = vcovHC(regt1_5, type=\"HC1\"))\n",
    "summary(regt1_5)\n",
    "summary(regt1_5robust)\n",
    "\n",
    "regt1_6<-lm(ln_hla_het~aa_lpd1+aa_mdist,subset=aa_mdist!=\"NA\" & ln_hla_het!=\"NA\" & ln_frac!=\"NA \"& ln_abslat!=\"NA\" & ln_arable!=\"NA\" & ln_suitavg!=\"NA\" & aa_ln_atd!=\"NA\" & ln_le60!=\"NA\" ,data=hla_country_web)\n",
    "regt1_6robust<-coeftest(regt1_6, vcov = vcovHC(regt1_6, type=\"HC1\"))\n",
    "summary(regt1_6)\n",
    "summary(regt1_6robust)\n"
   ]
  },
  {
   "cell_type": "code",
   "execution_count": 8,
   "metadata": {},
   "outputs": [
    {
     "name": "stdout",
     "output_type": "stream",
     "text": [
      "\n",
      "Table 2: Explaining HLA Heterozygosity\n",
      "=========================================================================================================\n",
      "                                                               Dependent variable:                       \n",
      "                                        -----------------------------------------------------------------\n",
      "                                                              ln HLA Heterozygosity                      \n",
      "                                           (1)        (2)        (3)        (4)        (5)        (6)    \n",
      "---------------------------------------------------------------------------------------------------------\n",
      "ln Years since Neolithic Revolution      0.0211**  0.0300***                                             \n",
      "                                         (0.0098)   (0.0086)                                             \n",
      "ln No. of Potential Domesticate Animals                       0.0266***  0.0361***                       \n",
      "                                                               (0.0064)   (0.0051)                       \n",
      "ln Population Density in 1 CE                                                       0.0144***  0.0158*** \n",
      "                                                                                     (0.0043)   (0.0033) \n",
      "Migratory Distance from East Africa                -0.0121***            -0.0133***            -0.0124***\n",
      "                                                    (0.0014)              (0.0015)              (0.0015) \n",
      "Constant                                -1.3261*** -1.3219*** -1.1894*** -1.1093*** -1.1547*** -1.0721***\n",
      "                                         (0.0847)   (0.0730)   (0.0126)   (0.0108)   (0.0074)   (0.0100) \n",
      "=========================================================================================================\n",
      "=========================================================================================================\n",
      "Note:                                                                         *p<0.1; **p<0.05; ***p<0.01\n"
     ]
    }
   ],
   "source": [
    "Table2<-stargazer(regt1_1robust,regt1_2robust,regt1_3robust,regt1_4robust,\n",
    "                  regt1_5robust,regt1_6robust,type=\"text\", keep.stat=c(\"n\", \"rsq\"), align = TRUE, \n",
    "                  title = \"Table 2: Explaining HLA Heterozygosity\",dep.var.labels = \"ln HLA Heterozygosity\",\n",
    "                  column.sep.width = \"5pt\",  digits=4, no.space=TRUE, order=c(\"aa_ln_atd\",\"aa_lanim\",\"aa_lpd1\",\"aa_mdist\"),\n",
    "                  covariate.labels=c(\"ln Years since Neolithic Revolution\",\"ln No. of Potential Domesticate Animals\", \n",
    "                                     \"ln Population Density in 1 CE\", \"Migratory Distance from East Africa\") )\n"
   ]
  },
  {
   "cell_type": "markdown",
   "metadata": {},
   "source": []
  },
  {
   "cell_type": "code",
   "execution_count": 9,
   "metadata": {},
   "outputs": [
    {
     "data": {
      "text/plain": [
       "\n",
       "Call:\n",
       "lm(formula = ln_mort40 ~ ln_hla_het, data = hla_country_web, \n",
       "    subset = ln_hla_het != \"NA\" & ln_frac != \"NA \" & ln_abslat != \n",
       "        \"NA\" & ln_arable != \"NA\" & ln_suitavg != \"NA\" & aa_ln_atd != \n",
       "        \"NA\" & ln_le60 != \"NA\")\n",
       "\n",
       "Residuals:\n",
       "     Min       1Q   Median       3Q      Max \n",
       "-1.18727 -0.34339  0.01533  0.26435  1.09459 \n",
       "\n",
       "Coefficients:\n",
       "            Estimate Std. Error t value Pr(>|t|)    \n",
       "(Intercept)  -6.6724     0.9301  -7.174 5.63e-10 ***\n",
       "ln_hla_het   -5.0080     0.8120  -6.167 3.79e-08 ***\n",
       "---\n",
       "Signif. codes:  0 '***' 0.001 '**' 0.01 '*' 0.05 '.' 0.1 ' ' 1\n",
       "\n",
       "Residual standard error: 0.4915 on 71 degrees of freedom\n",
       "  (102 observations deleted due to missingness)\n",
       "Multiple R-squared:  0.3488,\tAdjusted R-squared:  0.3397 \n",
       "F-statistic: 38.03 on 1 and 71 DF,  p-value: 3.795e-08\n"
      ]
     },
     "metadata": {},
     "output_type": "display_data"
    },
    {
     "data": {
      "text/plain": [
       "\n",
       "Call:\n",
       "lm(formula = ln_mort40 ~ ln_hla_het + ln_frac + aa_ln_atd + ln_arable + \n",
       "    ln_suitavg + ln_abslat + europe + africa + asia + americas, \n",
       "    data = hla_country_web, subset = ln_hla_het != \"NA\" & ln_frac != \n",
       "        \"NA \" & ln_abslat != \"NA\" & ln_arable != \"NA\" & ln_suitavg != \n",
       "        \"NA\" & aa_ln_atd != \"NA\" & ln_le60 != \"NA\")\n",
       "\n",
       "Residuals:\n",
       "     Min       1Q   Median       3Q      Max \n",
       "-1.01614 -0.30628  0.05079  0.28246  0.91429 \n",
       "\n",
       "Coefficients:\n",
       "            Estimate Std. Error t value Pr(>|t|)    \n",
       "(Intercept) -9.57531    2.25891  -4.239  7.6e-05 ***\n",
       "ln_hla_het  -3.86103    1.04886  -3.681 0.000489 ***\n",
       "ln_frac     -0.39701    0.38210  -1.039 0.302832    \n",
       "aa_ln_atd    0.59752    0.21443   2.787 0.007060 ** \n",
       "ln_arable    0.04486    0.10042   0.447 0.656616    \n",
       "ln_suitavg   0.03620    0.08595   0.421 0.675104    \n",
       "ln_abslat   -0.32604    0.10993  -2.966 0.004283 ** \n",
       "europe       0.10748    0.35411   0.304 0.762501    \n",
       "africa       0.45897    0.40337   1.138 0.259562    \n",
       "asia         0.17221    0.37414   0.460 0.646914    \n",
       "americas     0.11026    0.35364   0.312 0.756252    \n",
       "---\n",
       "Signif. codes:  0 '***' 0.001 '**' 0.01 '*' 0.05 '.' 0.1 ' ' 1\n",
       "\n",
       "Residual standard error: 0.4548 on 62 degrees of freedom\n",
       "  (102 observations deleted due to missingness)\n",
       "Multiple R-squared:  0.5133,\tAdjusted R-squared:  0.4348 \n",
       "F-statistic: 6.538 on 10 and 62 DF,  p-value: 8.296e-07\n"
      ]
     },
     "metadata": {},
     "output_type": "display_data"
    },
    {
     "data": {
      "text/plain": [
       "\n",
       "Call:\n",
       "lm(formula = ln_le40 ~ ln_hla_het, data = hla_country_web, subset = ln_hla_het != \n",
       "    \"NA\" & ln_frac != \"NA \" & ln_abslat != \"NA\" & ln_arable != \n",
       "    \"NA\" & ln_suitavg != \"NA\" & aa_ln_atd != \"NA\" & ln_le60 != \n",
       "    \"NA\")\n",
       "\n",
       "Residuals:\n",
       "     Min       1Q   Median       3Q      Max \n",
       "-0.44116 -0.18547  0.07159  0.18426  0.34939 \n",
       "\n",
       "Coefficients:\n",
       "            Estimate Std. Error t value Pr(>|t|)    \n",
       "(Intercept)   6.2554     0.4174  14.985  < 2e-16 ***\n",
       "ln_hla_het    2.1436     0.3653   5.869 1.39e-07 ***\n",
       "---\n",
       "Signif. codes:  0 '***' 0.001 '**' 0.01 '*' 0.05 '.' 0.1 ' ' 1\n",
       "\n",
       "Residual standard error: 0.216 on 69 degrees of freedom\n",
       "  (104 observations deleted due to missingness)\n",
       "Multiple R-squared:  0.3329,\tAdjusted R-squared:  0.3233 \n",
       "F-statistic: 34.44 on 1 and 69 DF,  p-value: 1.386e-07\n"
      ]
     },
     "metadata": {},
     "output_type": "display_data"
    },
    {
     "data": {
      "text/plain": [
       "\n",
       "Call:\n",
       "lm(formula = ln_le40 ~ ln_hla_het + ln_frac + aa_ln_atd + ln_arable + \n",
       "    ln_suitavg + ln_abslat + europe + africa + asia + americas, \n",
       "    data = hla_country_web, subset = ln_hla_het != \"NA\" & ln_frac != \n",
       "        \"NA \" & ln_abslat != \"NA\" & ln_arable != \"NA\" & ln_suitavg != \n",
       "        \"NA\" & aa_ln_atd != \"NA\" & ln_le60 != \"NA\")\n",
       "\n",
       "Residuals:\n",
       "     Min       1Q   Median       3Q      Max \n",
       "-0.32401 -0.10245 -0.00067  0.09843  0.36017 \n",
       "\n",
       "Coefficients:\n",
       "             Estimate Std. Error t value Pr(>|t|)    \n",
       "(Intercept)  5.316719   0.686427   7.746 1.33e-10 ***\n",
       "ln_hla_het   1.077112   0.348335   3.092 0.003013 ** \n",
       "ln_frac      0.072362   0.128129   0.565 0.574344    \n",
       "aa_ln_atd   -0.003076   0.068392  -0.045 0.964279    \n",
       "ln_arable   -0.105980   0.033565  -3.157 0.002491 ** \n",
       "ln_suitavg   0.052993   0.027554   1.923 0.059195 .  \n",
       "ln_abslat    0.098031   0.037499   2.614 0.011290 *  \n",
       "europe      -0.052723   0.116216  -0.454 0.651708    \n",
       "africa      -0.502073   0.128697  -3.901 0.000245 ***\n",
       "asia        -0.339857   0.122322  -2.778 0.007282 ** \n",
       "americas    -0.329193   0.116623  -2.823 0.006451 ** \n",
       "---\n",
       "Signif. codes:  0 '***' 0.001 '**' 0.01 '*' 0.05 '.' 0.1 ' ' 1\n",
       "\n",
       "Residual standard error: 0.1503 on 60 degrees of freedom\n",
       "  (104 observations deleted due to missingness)\n",
       "Multiple R-squared:  0.7192,\tAdjusted R-squared:  0.6724 \n",
       "F-statistic: 15.37 on 10 and 60 DF,  p-value: 3.688e-13\n"
      ]
     },
     "metadata": {},
     "output_type": "display_data"
    },
    {
     "data": {
      "text/plain": [
       "\n",
       "Call:\n",
       "lm(formula = ln_le60 ~ ln_hla_het, data = hla_country_web, subset = ln_hla_het != \n",
       "    \"NA\" & ln_frac != \"NA \" & ln_abslat != \"NA\" & ln_arable != \n",
       "    \"NA\" & ln_suitavg != \"NA\" & aa_ln_atd != \"NA\" & ln_le60 != \n",
       "    \"NA\")\n",
       "\n",
       "Residuals:\n",
       "    Min      1Q  Median      3Q     Max \n",
       "-0.5756 -0.1791  0.0458  0.1764  0.3490 \n",
       "\n",
       "Coefficients:\n",
       "            Estimate Std. Error t value Pr(>|t|)    \n",
       "(Intercept)   5.8146     0.3023  19.233  < 2e-16 ***\n",
       "ln_hla_het    1.6200     0.2631   6.157 8.72e-09 ***\n",
       "---\n",
       "Signif. codes:  0 '***' 0.001 '**' 0.01 '*' 0.05 '.' 0.1 ' ' 1\n",
       "\n",
       "Residual standard error: 0.2036 on 129 degrees of freedom\n",
       "  (44 observations deleted due to missingness)\n",
       "Multiple R-squared:  0.2271,\tAdjusted R-squared:  0.2211 \n",
       "F-statistic: 37.91 on 1 and 129 DF,  p-value: 8.721e-09\n"
      ]
     },
     "metadata": {},
     "output_type": "display_data"
    },
    {
     "data": {
      "text/plain": [
       "\n",
       "Call:\n",
       "lm(formula = ln_le60 ~ ln_hla_het + ln_frac + aa_ln_atd + ln_arable + \n",
       "    ln_suitavg + ln_abslat + europe + africa + asia + americas, \n",
       "    data = hla_country_web, subset = ln_hla_het != \"NA\" & ln_frac != \n",
       "        \"NA \" & ln_abslat != \"NA\" & ln_arable != \"NA\" & ln_suitavg != \n",
       "        \"NA\" & aa_ln_atd != \"NA\" & ln_le60 != \"NA\")\n",
       "\n",
       "Residuals:\n",
       "     Min       1Q   Median       3Q      Max \n",
       "-0.48975 -0.06072  0.00716  0.07354  0.27776 \n",
       "\n",
       "Coefficients:\n",
       "             Estimate Std. Error t value Pr(>|t|)    \n",
       "(Intercept)  4.962062   0.408122  12.158  < 2e-16 ***\n",
       "ln_hla_het   1.015120   0.192335   5.278 5.89e-07 ***\n",
       "ln_frac     -0.121001   0.075280  -1.607 0.110605    \n",
       "aa_ln_atd    0.036998   0.037781   0.979 0.329412    \n",
       "ln_arable   -0.008700   0.015168  -0.574 0.567349    \n",
       "ln_suitavg   0.008039   0.014414   0.558 0.578063    \n",
       "ln_abslat    0.019909   0.016277   1.223 0.223684    \n",
       "europe       0.038739   0.081110   0.478 0.633792    \n",
       "africa      -0.312210   0.084269  -3.705 0.000321 ***\n",
       "asia        -0.205622   0.077827  -2.642 0.009339 ** \n",
       "americas    -0.040059   0.076638  -0.523 0.602141    \n",
       "---\n",
       "Signif. codes:  0 '***' 0.001 '**' 0.01 '*' 0.05 '.' 0.1 ' ' 1\n",
       "\n",
       "Residual standard error: 0.1213 on 120 degrees of freedom\n",
       "  (44 observations deleted due to missingness)\n",
       "Multiple R-squared:  0.7446,\tAdjusted R-squared:  0.7233 \n",
       "F-statistic: 34.99 on 10 and 120 DF,  p-value: < 2.2e-16\n"
      ]
     },
     "metadata": {},
     "output_type": "display_data"
    }
   ],
   "source": [
    "#########################################################\n",
    "##########    TABLE_3: Premedicinal Health   ############\n",
    "#########################################################\n",
    "\n",
    "regt3_1<-lm(ln_mort40~ln_hla_het,subset=ln_hla_het!=\"NA\" & ln_frac!=\"NA \"& ln_abslat!=\"NA\" & ln_arable!=\"NA\" & ln_suitavg!=\"NA\" & aa_ln_atd!=\"NA\" & ln_le60!=\"NA\" ,data=hla_country_web)\n",
    "regt3_1robust<-coeftest(regt3_1, vcov = vcovHC(regt3_1, type=\"HC1\"))\n",
    "summary(regt3_1)\n",
    "\n",
    "regt3_2<-lm(ln_mort40~ln_hla_het+ln_frac+aa_ln_atd+ln_arable+ln_suitavg+ln_abslat+europe+africa+asia+americas,subset=ln_hla_het!=\"NA\" & ln_frac!=\"NA \"& ln_abslat!=\"NA\" & ln_arable!=\"NA\" & ln_suitavg!=\"NA\" & aa_ln_atd!=\"NA\" & ln_le60!=\"NA\" ,data=hla_country_web)\n",
    "regt3_2robust<-coeftest(regt3_2, vcov = vcovHC(regt3_2, type=\"HC1\"))\n",
    "summary(regt3_2)\n",
    "\n",
    "regt3_3<-lm(ln_le40~ln_hla_het,subset=ln_hla_het!=\"NA\" & ln_frac!=\"NA \"& ln_abslat!=\"NA\" & ln_arable!=\"NA\" & ln_suitavg!=\"NA\" & aa_ln_atd!=\"NA\" & ln_le60!=\"NA\" ,data=hla_country_web)\n",
    "regt3_3robust<-coeftest(regt3_3, vcov = vcovHC(regt3_3, type=\"HC1\"))\n",
    "summary(regt3_3)\n",
    "\n",
    "regt3_4<-lm(ln_le40~ln_hla_het+ln_frac+aa_ln_atd+ln_arable+ln_suitavg+ln_abslat+europe+africa+asia+americas,subset=ln_hla_het!=\"NA\" & ln_frac!=\"NA \"& ln_abslat!=\"NA\" & ln_arable!=\"NA\" & ln_suitavg!=\"NA\" & aa_ln_atd!=\"NA\" & ln_le60!=\"NA\" ,data=hla_country_web)\n",
    "regt3_4robust<-coeftest(regt3_4, vcov = vcovHC(regt3_4, type=\"HC1\"))\n",
    "summary(regt3_4)\n",
    "\n",
    "regt3_5<-lm(ln_le60~ln_hla_het,subset=ln_hla_het!=\"NA\" & ln_frac!=\"NA \"& ln_abslat!=\"NA\" & ln_arable!=\"NA\" & ln_suitavg!=\"NA\" & aa_ln_atd!=\"NA\" & ln_le60!=\"NA\" ,data=hla_country_web)\n",
    "regt3_5robust<-coeftest(regt3_5, vcov = vcovHC(regt3_5, type=\"HC1\"))\n",
    "summary(regt3_5)\n",
    "\n",
    "\n",
    "regt3_6<-lm(ln_le60~ln_hla_het+ln_frac+aa_ln_atd+ln_arable+ln_suitavg+ln_abslat+europe+africa+asia+americas,subset=ln_hla_het!=\"NA\" & ln_frac!=\"NA \"& ln_abslat!=\"NA\" & ln_arable!=\"NA\" & ln_suitavg!=\"NA\" & aa_ln_atd!=\"NA\" & ln_le60!=\"NA\" ,data=hla_country_web)\n",
    "regt3_6robust<-coeftest(regt3_6, vcov = vcovHC(regt3_6, type=\"HC1\"))\n",
    "summary(regt3_6)\n"
   ]
  },
  {
   "cell_type": "code",
   "execution_count": 10,
   "metadata": {},
   "outputs": [
    {
     "name": "stdout",
     "output_type": "stream",
     "text": [
      "\n",
      "Table 3: The Effect of HLA Heterozygosity prior to the International Epidemiological Transition\n",
      "==================================================================================================\n",
      "                                                         Dependent variable:                      \n",
      "                                    --------------------------------------------------------------\n",
      "                                                                                                  \n",
      "                                    ln PM1940  ln PM1940  ln LE1940 ln LE1940  ln LE1960 ln LE1960\n",
      "                                       (1)        (2)        (3)       (4)        (5)       (6)   \n",
      "--------------------------------------------------------------------------------------------------\n",
      "ln HLA Heterozygosity               -5.0080*** -3.8610*** 2.1436*** 1.0771***  1.6200*** 1.0151***\n",
      "                                     (0.7117)   (1.1282)  (0.3310)   (0.3771)  (0.2455)  (0.1899) \n",
      "ln Ethnic Fractionalization                     -0.3970               0.0724              -0.1210 \n",
      "                                                (0.3961)             (0.1338)            (0.0927) \n",
      "ln Years since Neolithic Revolution             0.5975**             -0.0031              0.0370  \n",
      "                                                (0.2358)             (0.0549)            (0.0397) \n",
      "ln Fraction of Arable Land                       0.0449             -0.1060***            -0.0087 \n",
      "                                                (0.1220)             (0.0366)            (0.0160) \n",
      "ln Suitability of Agriculture                    0.0362              0.0530**             0.0080  \n",
      "                                                (0.0844)             (0.0238)            (0.0128) \n",
      "ln Abs. Latitude                               -0.3260**             0.0980**             0.0199  \n",
      "                                                (0.1297)             (0.0410)            (0.0156) \n",
      "==================================================================================================\n",
      "==================================================================================================\n",
      "Note:                                                                  *p<0.1; **p<0.05; ***p<0.01\n"
     ]
    }
   ],
   "source": [
    "Table3<-stargazer(regt3_1robust,regt3_2robust,regt3_3robust,regt3_4robust,\n",
    "                  regt3_5robust,regt3_6robust,type=\"text\", align = TRUE,\n",
    "                  keep=c(\"ln_hla_het\",\"ln_frac\",\"aa_ln_atd\",\"ln_arable\", \"ln_suitavg\",\"ln_abslat\"),\n",
    "                  title = \"Table 3: The Effect of HLA Heterozygosity prior to the International Epidemiological Transition\",\n",
    "                  column.labels=c(\"ln PM1940\", \"ln PM1940\", \"ln LE1940\", \"ln LE1940\", \"ln LE1960\", \"ln LE1960\"),\n",
    "                  column.sep.width = \"10pt\",  digits=4, no.space=TRUE,\n",
    "                  covariate.labels=c(\"ln HLA Heterozygosity\", \"ln Ethnic Fractionalization\", \"ln Years since Neolithic Revolution\", \n",
    "                                     \"ln Fraction of Arable Land\", \"ln Suitability of Agriculture\", \"ln Abs. Latitude\") )\n"
   ]
  },
  {
   "cell_type": "code",
   "execution_count": 11,
   "metadata": {},
   "outputs": [
    {
     "data": {
      "text/plain": [
       "\n",
       "Call:\n",
       "lm(formula = ln_le60 ~ ln_hla_het + ln_frac + aa_ln_atd + ln_arable + \n",
       "    ln_suitavg + ln_abslat + europe + africa + asia + americas, \n",
       "    data = hla_country_web, subset = ln_le60 != \"NA\" & ln_le70 != \n",
       "        \"NA\" & ln_le80 != \"NA\" & ln_le90 != \"NA\" & ln_le00 != \n",
       "        \"NA\" & ln_le10 != \"NA\")\n",
       "\n",
       "Residuals:\n",
       "     Min       1Q   Median       3Q      Max \n",
       "-0.48975 -0.06072  0.00716  0.07354  0.27776 \n",
       "\n",
       "Coefficients:\n",
       "             Estimate Std. Error t value Pr(>|t|)    \n",
       "(Intercept)  4.962062   0.408122  12.158  < 2e-16 ***\n",
       "ln_hla_het   1.015120   0.192335   5.278 5.89e-07 ***\n",
       "ln_frac     -0.121001   0.075280  -1.607 0.110605    \n",
       "aa_ln_atd    0.036998   0.037781   0.979 0.329412    \n",
       "ln_arable   -0.008700   0.015168  -0.574 0.567349    \n",
       "ln_suitavg   0.008039   0.014414   0.558 0.578063    \n",
       "ln_abslat    0.019909   0.016277   1.223 0.223684    \n",
       "europe       0.038739   0.081110   0.478 0.633792    \n",
       "africa      -0.312210   0.084269  -3.705 0.000321 ***\n",
       "asia        -0.205622   0.077827  -2.642 0.009339 ** \n",
       "americas    -0.040059   0.076638  -0.523 0.602141    \n",
       "---\n",
       "Signif. codes:  0 '***' 0.001 '**' 0.01 '*' 0.05 '.' 0.1 ' ' 1\n",
       "\n",
       "Residual standard error: 0.1213 on 120 degrees of freedom\n",
       "  (44 observations deleted due to missingness)\n",
       "Multiple R-squared:  0.7446,\tAdjusted R-squared:  0.7233 \n",
       "F-statistic: 34.99 on 10 and 120 DF,  p-value: < 2.2e-16\n"
      ]
     },
     "metadata": {},
     "output_type": "display_data"
    },
    {
     "data": {
      "text/plain": [
       "\n",
       "Call:\n",
       "lm(formula = ln_le70 ~ ln_hla_het + ln_frac + aa_ln_atd + ln_arable + \n",
       "    ln_suitavg + ln_abslat + europe + africa + asia + americas, \n",
       "    data = hla_country_web, subset = ln_le60 != \"NA\" & ln_le70 != \n",
       "        \"NA\" & ln_le80 != \"NA\" & ln_le90 != \"NA\" & ln_le00 != \n",
       "        \"NA\" & ln_le10 != \"NA\")\n",
       "\n",
       "Residuals:\n",
       "     Min       1Q   Median       3Q      Max \n",
       "-0.47914 -0.04940  0.00058  0.07175  0.24402 \n",
       "\n",
       "Coefficients:\n",
       "              Estimate Std. Error t value Pr(>|t|)    \n",
       "(Intercept)  5.1986107  0.3863098  13.457  < 2e-16 ***\n",
       "ln_hla_het   1.0404702  0.1820558   5.715 8.15e-08 ***\n",
       "ln_frac     -0.1163928  0.0712564  -1.633 0.104998    \n",
       "aa_ln_atd    0.0246249  0.0357620   0.689 0.492418    \n",
       "ln_arable   -0.0141638  0.0143576  -0.987 0.325870    \n",
       "ln_suitavg   0.0007926  0.0136433   0.058 0.953771    \n",
       "ln_abslat    0.0045721  0.0154071   0.297 0.767166    \n",
       "europe       0.0344496  0.0767749   0.449 0.654450    \n",
       "africa      -0.3192781  0.0797647  -4.003 0.000109 ***\n",
       "asia        -0.1420921  0.0736678  -1.929 0.056115 .  \n",
       "americas    -0.0238244  0.0725423  -0.328 0.743166    \n",
       "---\n",
       "Signif. codes:  0 '***' 0.001 '**' 0.01 '*' 0.05 '.' 0.1 ' ' 1\n",
       "\n",
       "Residual standard error: 0.1148 on 120 degrees of freedom\n",
       "  (44 observations deleted due to missingness)\n",
       "Multiple R-squared:  0.734,\tAdjusted R-squared:  0.7118 \n",
       "F-statistic: 33.11 on 10 and 120 DF,  p-value: < 2.2e-16\n"
      ]
     },
     "metadata": {},
     "output_type": "display_data"
    },
    {
     "data": {
      "text/plain": [
       "\n",
       "Call:\n",
       "lm(formula = ln_le80 ~ ln_hla_het + ln_frac + aa_ln_atd + ln_arable + \n",
       "    ln_suitavg + ln_abslat + europe + africa + asia + americas, \n",
       "    data = hla_country_web, subset = ln_le60 != \"NA\" & ln_le70 != \n",
       "        \"NA\" & ln_le80 != \"NA\" & ln_le90 != \"NA\" & ln_le00 != \n",
       "        \"NA\" & ln_le10 != \"NA\")\n",
       "\n",
       "Residuals:\n",
       "     Min       1Q   Median       3Q      Max \n",
       "-0.42788 -0.04509  0.00724  0.06262  0.25050 \n",
       "\n",
       "Coefficients:\n",
       "              Estimate Std. Error t value Pr(>|t|)    \n",
       "(Intercept)  4.9452963  0.3561394  13.886  < 2e-16 ***\n",
       "ln_hla_het   0.8420928  0.1678374   5.017 1.84e-06 ***\n",
       "ln_frac     -0.1462667  0.0656913  -2.227 0.027842 *  \n",
       "aa_ln_atd    0.0348747  0.0329691   1.058 0.292271    \n",
       "ln_arable   -0.0199753  0.0132363  -1.509 0.133893    \n",
       "ln_suitavg   0.0003745  0.0125777   0.030 0.976298    \n",
       "ln_abslat    0.0070101  0.0142038   0.494 0.622533    \n",
       "europe       0.0176880  0.0707789   0.250 0.803088    \n",
       "africa      -0.2552229  0.0735352  -3.471 0.000722 ***\n",
       "asia        -0.1194574  0.0679145  -1.759 0.081137 .  \n",
       "americas    -0.0064243  0.0668769  -0.096 0.923631    \n",
       "---\n",
       "Signif. codes:  0 '***' 0.001 '**' 0.01 '*' 0.05 '.' 0.1 ' ' 1\n",
       "\n",
       "Residual standard error: 0.1059 on 120 degrees of freedom\n",
       "  (44 observations deleted due to missingness)\n",
       "Multiple R-squared:  0.6995,\tAdjusted R-squared:  0.6745 \n",
       "F-statistic: 27.94 on 10 and 120 DF,  p-value: < 2.2e-16\n"
      ]
     },
     "metadata": {},
     "output_type": "display_data"
    },
    {
     "data": {
      "text/plain": [
       "\n",
       "Call:\n",
       "lm(formula = ln_le90 ~ ln_hla_het + ln_frac + aa_ln_atd + ln_arable + \n",
       "    ln_suitavg + ln_abslat + europe + africa + asia + americas, \n",
       "    data = hla_country_web, subset = ln_le60 != \"NA\" & ln_le70 != \n",
       "        \"NA\" & ln_le80 != \"NA\" & ln_le90 != \"NA\" & ln_le00 != \n",
       "        \"NA\" & ln_le10 != \"NA\")\n",
       "\n",
       "Residuals:\n",
       "     Min       1Q   Median       3Q      Max \n",
       "-0.42359 -0.04798  0.00311  0.06009  0.26370 \n",
       "\n",
       "Coefficients:\n",
       "             Estimate Std. Error t value Pr(>|t|)    \n",
       "(Intercept)  4.554555   0.359376  12.674  < 2e-16 ***\n",
       "ln_hla_het   0.549024   0.169363   3.242  0.00154 ** \n",
       "ln_frac     -0.183742   0.066288  -2.772  0.00646 ** \n",
       "aa_ln_atd    0.038322   0.033269   1.152  0.25166    \n",
       "ln_arable   -0.022074   0.013357  -1.653  0.10101    \n",
       "ln_suitavg  -0.004649   0.012692  -0.366  0.71478    \n",
       "ln_abslat    0.024767   0.014333   1.728  0.08657 .  \n",
       "europe       0.018960   0.071422   0.265  0.79111    \n",
       "africa      -0.220302   0.074203  -2.969  0.00361 ** \n",
       "asia        -0.072690   0.068532  -1.061  0.29097    \n",
       "americas     0.034606   0.067485   0.513  0.60904    \n",
       "---\n",
       "Signif. codes:  0 '***' 0.001 '**' 0.01 '*' 0.05 '.' 0.1 ' ' 1\n",
       "\n",
       "Residual standard error: 0.1068 on 120 degrees of freedom\n",
       "  (44 observations deleted due to missingness)\n",
       "Multiple R-squared:  0.6886,\tAdjusted R-squared:  0.6626 \n",
       "F-statistic: 26.53 on 10 and 120 DF,  p-value: < 2.2e-16\n"
      ]
     },
     "metadata": {},
     "output_type": "display_data"
    },
    {
     "data": {
      "text/plain": [
       "\n",
       "Call:\n",
       "lm(formula = ln_le00 ~ ln_hla_het + ln_frac + aa_ln_atd + ln_arable + \n",
       "    ln_suitavg + ln_abslat + europe + africa + asia + americas, \n",
       "    data = hla_country_web, subset = ln_le60 != \"NA\" & ln_le70 != \n",
       "        \"NA\" & ln_le80 != \"NA\" & ln_le90 != \"NA\" & ln_le00 != \n",
       "        \"NA\" & ln_le10 != \"NA\")\n",
       "\n",
       "Residuals:\n",
       "     Min       1Q   Median       3Q      Max \n",
       "-0.39356 -0.05137  0.00062  0.05057  0.21952 \n",
       "\n",
       "Coefficients:\n",
       "             Estimate Std. Error t value Pr(>|t|)    \n",
       "(Intercept)  3.850750   0.309218  12.453  < 2e-16 ***\n",
       "ln_hla_het   0.251217   0.145725   1.724 0.087299 .  \n",
       "ln_frac     -0.177528   0.057037  -3.113 0.002319 ** \n",
       "aa_ln_atd    0.084388   0.028625   2.948 0.003845 ** \n",
       "ln_arable   -0.006223   0.011492  -0.542 0.589157    \n",
       "ln_suitavg  -0.016824   0.010921  -1.541 0.126047    \n",
       "ln_abslat    0.013741   0.012332   1.114 0.267420    \n",
       "europe      -0.001058   0.061454  -0.017 0.986296    \n",
       "africa      -0.249743   0.063847  -3.912 0.000152 ***\n",
       "asia        -0.092455   0.058967  -1.568 0.119534    \n",
       "americas     0.026439   0.058066   0.455 0.649695    \n",
       "---\n",
       "Signif. codes:  0 '***' 0.001 '**' 0.01 '*' 0.05 '.' 0.1 ' ' 1\n",
       "\n",
       "Residual standard error: 0.09193 on 120 degrees of freedom\n",
       "  (44 observations deleted due to missingness)\n",
       "Multiple R-squared:  0.7683,\tAdjusted R-squared:  0.749 \n",
       "F-statistic: 39.79 on 10 and 120 DF,  p-value: < 2.2e-16\n"
      ]
     },
     "metadata": {},
     "output_type": "display_data"
    },
    {
     "data": {
      "text/plain": [
       "\n",
       "Call:\n",
       "lm(formula = ln_le10 ~ ln_hla_het + ln_frac + aa_ln_atd + ln_arable + \n",
       "    ln_suitavg + ln_abslat + europe + africa + asia + americas, \n",
       "    data = hla_country_web, subset = ln_le60 != \"NA\" & ln_le70 != \n",
       "        \"NA\" & ln_le80 != \"NA\" & ln_le90 != \"NA\" & ln_le00 != \n",
       "        \"NA\" & ln_le10 != \"NA\")\n",
       "\n",
       "Residuals:\n",
       "     Min       1Q   Median       3Q      Max \n",
       "-0.36822 -0.04284  0.00248  0.04303  0.22940 \n",
       "\n",
       "Coefficients:\n",
       "             Estimate Std. Error t value Pr(>|t|)    \n",
       "(Intercept)  3.912044   0.282804  13.833  < 2e-16 ***\n",
       "ln_hla_het   0.178763   0.133277   1.341 0.182360    \n",
       "ln_frac     -0.150893   0.052164  -2.893 0.004537 ** \n",
       "aa_ln_atd    0.073300   0.026180   2.800 0.005960 ** \n",
       "ln_arable   -0.004571   0.010511  -0.435 0.664390    \n",
       "ln_suitavg  -0.013801   0.009988  -1.382 0.169608    \n",
       "ln_abslat    0.006617   0.011279   0.587 0.558550    \n",
       "europe       0.006555   0.056204   0.117 0.907355    \n",
       "africa      -0.223514   0.058393  -3.828 0.000207 ***\n",
       "asia        -0.083993   0.053930  -1.557 0.121995    \n",
       "americas     0.016314   0.053106   0.307 0.759223    \n",
       "---\n",
       "Signif. codes:  0 '***' 0.001 '**' 0.01 '*' 0.05 '.' 0.1 ' ' 1\n",
       "\n",
       "Residual standard error: 0.08408 on 120 degrees of freedom\n",
       "  (44 observations deleted due to missingness)\n",
       "Multiple R-squared:  0.748,\tAdjusted R-squared:  0.727 \n",
       "F-statistic: 35.62 on 10 and 120 DF,  p-value: < 2.2e-16\n"
      ]
     },
     "metadata": {},
     "output_type": "display_data"
    }
   ],
   "source": [
    "##################################################################################\n",
    "##########    TABLE_ 4: Additional Years:  The effect of medicine    #############\n",
    "##################################################################################\n",
    "\n",
    "regt4_1<-lm(ln_le60~ln_hla_het+ln_frac+aa_ln_atd+ln_arable+ln_suitavg+ln_abslat+europe+africa+asia+americas,subset=ln_le60!=\"NA\" & ln_le70!=\"NA\" & ln_le80!=\"NA\" & ln_le90!=\"NA\" & ln_le00!=\"NA\" & ln_le10!=\"NA\",data=hla_country_web)\n",
    "regt4_1robust<-coeftest(regt4_1, vcov = vcovHC(regt4_1, type=\"HC1\"))\n",
    "summary(regt4_1)\n",
    "\n",
    "regt4_2<-lm(ln_le70~ln_hla_het+ln_frac+aa_ln_atd+ln_arable+ln_suitavg+ln_abslat+europe+africa+asia+americas,subset=ln_le60!=\"NA\" & ln_le70!=\"NA\" & ln_le80!=\"NA\" & ln_le90!=\"NA\" & ln_le00!=\"NA\" & ln_le10!=\"NA\",data=hla_country_web)\n",
    "regt4_2robust<-coeftest(regt4_2, vcov = vcovHC(regt4_2, type=\"HC1\"))\n",
    "summary(regt4_2)\n",
    "\n",
    "regt4_3<-lm(ln_le80~ln_hla_het+ln_frac+aa_ln_atd+ln_arable+ln_suitavg+ln_abslat+europe+africa+asia+americas,subset=ln_le60!=\"NA\" & ln_le70!=\"NA\" & ln_le80!=\"NA\" & ln_le90!=\"NA\" & ln_le00!=\"NA\" & ln_le10!=\"NA\",data=hla_country_web)\n",
    "regt4_3robust<-coeftest(regt4_3, vcov = vcovHC(regt4_3, type=\"HC1\"))\n",
    "summary(regt4_3)\n",
    "\n",
    "\n",
    "regt4_4<-lm(ln_le90~ln_hla_het+ln_frac+aa_ln_atd+ln_arable+ln_suitavg+ln_abslat+europe+africa+asia+americas,subset=ln_le60!=\"NA\" & ln_le70!=\"NA\" & ln_le80!=\"NA\" & ln_le90!=\"NA\" & ln_le00!=\"NA\" & ln_le10!=\"NA\",data=hla_country_web)\n",
    "regt4_4robust<-coeftest(regt4_4, vcov = vcovHC(regt4_4, type=\"HC1\"))\n",
    "summary(regt4_4)\n",
    "\n",
    "\n",
    "regt4_5<-lm(ln_le00~ln_hla_het+ln_frac+aa_ln_atd+ln_arable+ln_suitavg+ln_abslat+europe+africa+asia+americas,subset=ln_le60!=\"NA\" & ln_le70!=\"NA\" & ln_le80!=\"NA\" & ln_le90!=\"NA\" & ln_le00!=\"NA\" & ln_le10!=\"NA\",data=hla_country_web)\n",
    "regt4_5robust<-coeftest(regt4_5, vcov = vcovHC(regt4_5, type=\"HC1\"))\n",
    "summary(regt4_5)\n",
    "\n",
    "regt4_6<-lm(ln_le10~ln_hla_het+ln_frac+aa_ln_atd+ln_arable+ln_suitavg+ln_abslat+europe+africa+asia+americas,subset=ln_le60!=\"NA\" & ln_le70!=\"NA\" & ln_le80!=\"NA\" & ln_le90!=\"NA\" & ln_le00!=\"NA\" & ln_le10!=\"NA\",data=hla_country_web)\n",
    "regt4_6robust<-coeftest(regt4_6, vcov = vcovHC(regt4_6, type=\"HC1\"))\n",
    "summary(regt4_6)\n",
    "\n"
   ]
  },
  {
   "cell_type": "code",
   "execution_count": 12,
   "metadata": {},
   "outputs": [
    {
     "name": "stdout",
     "output_type": "stream",
     "text": [
      "\n",
      "Table 4: The Effect of HLA Heterozygosity after the International Epidemiological Transition\n",
      "===============================================================================\n",
      "                                         Dependent variable:                   \n",
      "                      ---------------------------------------------------------\n",
      "                                         ln Life Expectancy                    \n",
      "                        1960      1970      1980      1990      2000     2010  \n",
      "                         (1)       (2)       (3)       (4)      (5)      (6)   \n",
      "-------------------------------------------------------------------------------\n",
      "ln HLA Heterozygosity 1.0151*** 1.0405*** 0.8421*** 0.5490***  0.2512   0.1788 \n",
      "                      (0.1899)  (0.1696)  (0.1700)  (0.1798)  (0.1541) (0.1335)\n",
      "===============================================================================\n",
      "===============================================================================\n",
      "Note:                                               *p<0.1; **p<0.05; ***p<0.01\n"
     ]
    }
   ],
   "source": [
    "Table4<-stargazer(regt4_1robust,regt4_2robust,regt4_3robust,regt4_4robust,\n",
    "                  regt4_5robust,regt4_6robust,type=\"text\", align = TRUE,\n",
    "                  title = \"Table 4: The Effect of HLA Heterozygosity after the International Epidemiological Transition\",\n",
    "                  dep.var.labels = \"ln Life Expectancy\", keep=c(\"ln_hla_het\"), \n",
    "                  column.labels=c(\"1960\", \"1970\", \"1980\", \"1990\", \"2000\", \"2010\"),\n",
    "                  column.sep.width = \"10pt\",  digits=4, no.space=TRUE,\n",
    "                  covariate.labels=c(\"ln HLA Heterozygosity\"))"
   ]
  },
  {
   "cell_type": "code",
   "execution_count": 13,
   "metadata": {},
   "outputs": [
    {
     "data": {
      "text/plain": [
       "\n",
       "Call:\n",
       "lm(formula = ln_le60 ~ ln_hla_het + ln_frac + aa_ln_atd + ln_arable + \n",
       "    ln_suitavg + ln_abslat + europe + africa + asia + americas, \n",
       "    data = hla_country_web, subset = frac_eur == 0 & ln_le60 != \n",
       "        \"NA\" & ln_hla_het != \"NA\" & ln_frac != \"NA\" & ln_abslat != \n",
       "        \"NA\" & ln_arable != \"NA\" & ln_suitavg != \"NA\" & aa_ln_atd != \n",
       "        \"NA\")\n",
       "\n",
       "Residuals:\n",
       "     Min       1Q   Median       3Q      Max \n",
       "-0.23551 -0.07323  0.01446  0.06769  0.29570 \n",
       "\n",
       "Coefficients: (2 not defined because of singularities)\n",
       "             Estimate Std. Error t value Pr(>|t|)    \n",
       "(Intercept)  4.663561   0.719793   6.479 5.52e-08 ***\n",
       "ln_hla_het   0.724094   0.362643   1.997   0.0518 .  \n",
       "ln_frac     -0.166265   0.129578  -1.283   0.2059    \n",
       "aa_ln_atd    0.010913   0.066160   0.165   0.8697    \n",
       "ln_arable   -0.006245   0.020622  -0.303   0.7634    \n",
       "ln_suitavg   0.001592   0.021353   0.075   0.9409    \n",
       "ln_abslat   -0.010405   0.022727  -0.458   0.6492    \n",
       "europe             NA         NA      NA       NA    \n",
       "africa      -0.078831   0.192005  -0.411   0.6833    \n",
       "asia         0.058187   0.183382   0.317   0.7525    \n",
       "americas           NA         NA      NA       NA    \n",
       "---\n",
       "Signif. codes:  0 '***' 0.001 '**' 0.01 '*' 0.05 '.' 0.1 ' ' 1\n",
       "\n",
       "Residual standard error: 0.1265 on 46 degrees of freedom\n",
       "  (11 observations deleted due to missingness)\n",
       "Multiple R-squared:  0.4183,\tAdjusted R-squared:  0.3172 \n",
       "F-statistic: 4.135 on 8 and 46 DF,  p-value: 0.0008798\n"
      ]
     },
     "metadata": {},
     "output_type": "display_data"
    },
    {
     "data": {
      "text/plain": [
       "\n",
       "Call:\n",
       "lm(formula = ln_le60 ~ ln_hla_het + ln_frac + aa_ln_atd + ln_arable + \n",
       "    ln_suitavg + ln_abslat + europe + africa + asia + americas, \n",
       "    data = hla_country_web, subset = frac_eur > 0 & frac_eur < \n",
       "        1 & ln_le60 != \"NA\" & ln_hla_het != \"NA\" & ln_frac != \n",
       "        \"NA\" & ln_abslat != \"NA\" & ln_arable != \"NA\" & ln_suitavg != \n",
       "        \"NA\" & aa_ln_atd != \"NA\")\n",
       "\n",
       "Residuals:\n",
       "     Min       1Q   Median       3Q      Max \n",
       "-0.49173 -0.05557 -0.00057  0.07756  0.20268 \n",
       "\n",
       "Coefficients:\n",
       "            Estimate Std. Error t value Pr(>|t|)    \n",
       "(Intercept)  3.97634    0.84821   4.688 3.04e-05 ***\n",
       "ln_hla_het   0.80490    0.36724   2.192   0.0341 *  \n",
       "ln_frac     -0.15810    0.14726  -1.074   0.2893    \n",
       "aa_ln_atd    0.14118    0.08746   1.614   0.1142    \n",
       "ln_arable   -0.06410    0.03803  -1.686   0.0995 .  \n",
       "ln_suitavg   0.04920    0.04322   1.138   0.2616    \n",
       "ln_abslat    0.05377    0.04204   1.279   0.2081    \n",
       "europe      -0.03648    0.12133  -0.301   0.7652    \n",
       "africa      -0.24688    0.13633  -1.811   0.0775 .  \n",
       "asia        -0.28035    0.12115  -2.314   0.0257 *  \n",
       "americas    -0.11947    0.11174  -1.069   0.2912    \n",
       "---\n",
       "Signif. codes:  0 '***' 0.001 '**' 0.01 '*' 0.05 '.' 0.1 ' ' 1\n",
       "\n",
       "Residual standard error: 0.1397 on 41 degrees of freedom\n",
       "  (26 observations deleted due to missingness)\n",
       "Multiple R-squared:  0.5891,\tAdjusted R-squared:  0.4888 \n",
       "F-statistic: 5.877 on 10 and 41 DF,  p-value: 1.93e-05\n"
      ]
     },
     "metadata": {},
     "output_type": "display_data"
    },
    {
     "data": {
      "text/plain": [
       "\n",
       "Call:\n",
       "lm(formula = ln_le60 ~ ln_hla_het + ln_frac + aa_ln_atd + ln_arable + \n",
       "    ln_suitavg + ln_abslat + europe + africa + asia + americas, \n",
       "    data = hla_country_web, subset = frac_eur == 1 & ln_le60 != \n",
       "        \"NA\" & ln_hla_het != \"NA\" & ln_frac != \"NA\" & ln_abslat != \n",
       "        \"NA\" & ln_arable != \"NA\" & ln_suitavg != \"NA\" & aa_ln_atd != \n",
       "        \"NA\")\n",
       "\n",
       "Residuals:\n",
       "      Min        1Q    Median        3Q       Max \n",
       "-0.079159 -0.024165  0.002131  0.022136  0.057548 \n",
       "\n",
       "Coefficients: (4 not defined because of singularities)\n",
       "             Estimate Std. Error t value Pr(>|t|)    \n",
       "(Intercept)  3.517311   0.758054   4.640 0.000234 ***\n",
       "ln_hla_het   0.728074   0.365006   1.995 0.062365 .  \n",
       "ln_frac     -0.073481   0.070289  -1.045 0.310474    \n",
       "aa_ln_atd    0.035708   0.044750   0.798 0.435913    \n",
       "ln_arable   -0.009074   0.022862  -0.397 0.696384    \n",
       "ln_suitavg   0.018469   0.024473   0.755 0.460780    \n",
       "ln_abslat    0.323034   0.129588   2.493 0.023290 *  \n",
       "europe             NA         NA      NA       NA    \n",
       "africa             NA         NA      NA       NA    \n",
       "asia               NA         NA      NA       NA    \n",
       "americas           NA         NA      NA       NA    \n",
       "---\n",
       "Signif. codes:  0 '***' 0.001 '**' 0.01 '*' 0.05 '.' 0.1 ' ' 1\n",
       "\n",
       "Residual standard error: 0.04194 on 17 degrees of freedom\n",
       "  (7 observations deleted due to missingness)\n",
       "Multiple R-squared:  0.5162,\tAdjusted R-squared:  0.3454 \n",
       "F-statistic: 3.023 on 6 and 17 DF,  p-value: 0.03371\n"
      ]
     },
     "metadata": {},
     "output_type": "display_data"
    },
    {
     "data": {
      "text/plain": [
       "\n",
       "Call:\n",
       "lm(formula = ln_le60 ~ ln_hla_het + frac_eur + frac_me + frac_easia + \n",
       "    frac_africa + frac_am + ln_frac + aa_ln_atd + ln_arable + \n",
       "    ln_suitavg + ln_abslat + europe + africa + asia + americas, \n",
       "    data = hla_country_web, subset = ln_le60 != \"NA\" & ln_hla_het != \n",
       "        \"NA\" & ln_frac != \"NA\" & ln_abslat != \"NA\" & ln_arable != \n",
       "        \"NA\" & ln_suitavg != \"NA\" & aa_ln_atd != \"NA\")\n",
       "\n",
       "Residuals:\n",
       "     Min       1Q   Median       3Q      Max \n",
       "-0.42848 -0.06734  0.00682  0.06718  0.24529 \n",
       "\n",
       "Coefficients:\n",
       "             Estimate Std. Error t value Pr(>|t|)    \n",
       "(Intercept)  4.598250   0.497114   9.250 1.45e-15 ***\n",
       "ln_hla_het   0.886992   0.286872   3.092   0.0025 ** \n",
       "frac_eur     0.317721   0.194336   1.635   0.1048    \n",
       "frac_me      0.020621   0.204333   0.101   0.9198    \n",
       "frac_easia   0.140123   0.190495   0.736   0.4635    \n",
       "frac_africa  0.017364   0.194295   0.089   0.9289    \n",
       "frac_am      0.145135   0.180890   0.802   0.4240    \n",
       "ln_frac     -0.129576   0.073851  -1.755   0.0820 .  \n",
       "aa_ln_atd    0.042627   0.039200   1.087   0.2791    \n",
       "ln_arable   -0.009935   0.014528  -0.684   0.4954    \n",
       "ln_suitavg  -0.000756   0.014302  -0.053   0.9579    \n",
       "ln_abslat    0.006856   0.016666   0.411   0.6816    \n",
       "europe      -0.051875   0.088836  -0.584   0.5604    \n",
       "africa      -0.140886   0.115650  -1.218   0.2256    \n",
       "asia        -0.097880   0.112253  -0.872   0.3850    \n",
       "americas    -0.057943   0.096103  -0.603   0.5477    \n",
       "---\n",
       "Signif. codes:  0 '***' 0.001 '**' 0.01 '*' 0.05 '.' 0.1 ' ' 1\n",
       "\n",
       "Residual standard error: 0.1126 on 115 degrees of freedom\n",
       "  (44 observations deleted due to missingness)\n",
       "Multiple R-squared:  0.7891,\tAdjusted R-squared:  0.7616 \n",
       "F-statistic: 28.68 on 15 and 115 DF,  p-value: < 2.2e-16\n"
      ]
     },
     "metadata": {},
     "output_type": "display_data"
    }
   ],
   "source": [
    "########################################################\n",
    "##########TABLE_5: Pop. Composition Trunc. #############\n",
    "########################################################\n",
    "\n",
    "regt5_1<-lm(ln_le60~ln_hla_het+ln_frac+aa_ln_atd+ln_arable+ln_suitavg+ln_abslat+europe+africa+asia+americas, subset = frac_eur==0 & ln_le60!=\"NA\" & ln_hla_het!=\"NA\" & ln_frac!=\"NA\" & ln_abslat!=\"NA\" & ln_arable!=\"NA\" & ln_suitavg!=\"NA\" & aa_ln_atd!=\"NA\", data=hla_country_web)\n",
    "regt5_1robust<-coeftest(regt5_1, vcov = vcovHC(regt5_1, type=\"HC1\"))\n",
    "summary(regt5_1)\n",
    "\n",
    "regt5_2<-lm(ln_le60~ln_hla_het+ln_frac+aa_ln_atd+ln_arable+ln_suitavg+ln_abslat+europe+africa+asia+americas, subset = frac_eur>0 & frac_eur<1 & ln_le60!=\"NA\" & ln_hla_het!=\"NA\" & ln_frac!=\"NA\" & ln_abslat!=\"NA\" & ln_arable!=\"NA\" & ln_suitavg!=\"NA\" & aa_ln_atd!=\"NA\", data=hla_country_web)\n",
    "regt5_2robust<-coeftest(regt5_2, vcov = vcovHC(regt5_2, type=\"HC1\"))\n",
    "summary(regt5_2)\n",
    "\n",
    "\n",
    "regt5_3<-lm(ln_le60~ln_hla_het+ln_frac+aa_ln_atd+ln_arable+ln_suitavg+ln_abslat+europe+africa+asia+americas, subset = frac_eur==1 & ln_le60!=\"NA\" & ln_hla_het!=\"NA\" & ln_frac!=\"NA\" & ln_abslat!=\"NA\" & ln_arable!=\"NA\" & ln_suitavg!=\"NA\" & aa_ln_atd!=\"NA\", data=hla_country_web)\n",
    "regt5_3robust<-coeftest(regt5_3, vcov = vcovHC(regt5_3, type=\"HC1\"))\n",
    "summary(regt5_3)\n",
    "\n",
    "\n",
    "regt5_4<-lm(ln_le60~ln_hla_het+frac_eur+frac_me+frac_easia+frac_africa+frac_am+ln_frac+aa_ln_atd+ln_arable+ln_suitavg+ln_abslat+europe+africa+asia+americas,subset= ln_le60!=\"NA\" & ln_hla_het!=\"NA\" & ln_frac!=\"NA\" & ln_abslat!=\"NA\" & ln_arable!=\"NA\" & ln_suitavg!=\"NA\" & aa_ln_atd!=\"NA\",data=hla_country_web)\n",
    "regt5_4robust<-coeftest(regt5_4, vcov = vcovHC(regt5_4, type=\"HC1\"))\n",
    "summary(regt5_4)\n",
    "\n"
   ]
  },
  {
   "cell_type": "code",
   "execution_count": 14,
   "metadata": {},
   "outputs": [
    {
     "name": "stdout",
     "output_type": "stream",
     "text": [
      "\n",
      "Table 5: Robustness to the Influence of Regional Populations\n",
      "=======================================================================\n",
      "                                     Dependent variable:               \n",
      "                      -------------------------------------------------\n",
      "                                 ln Life Expectancy in 1960            \n",
      "                      %European=0 %European=(0;1) %European=1   Full   \n",
      "                          (1)           (2)           (3)        (4)   \n",
      "-----------------------------------------------------------------------\n",
      "ln HLA Heterozygosity   0.7241*      0.8049***     0.7281**   0.8870***\n",
      "                       (0.3623)      (0.2923)      (0.3111)   (0.2872) \n",
      "=======================================================================\n",
      "=======================================================================\n",
      "Note:                                       *p<0.1; **p<0.05; ***p<0.01\n"
     ]
    }
   ],
   "source": [
    "Table5<-stargazer(regt5_1robust,regt5_2robust,regt5_3robust,regt5_4robust,\n",
    "                  type=\"text\", align = TRUE, title = \"Table 5: Robustness to the Influence of Regional Populations\",\n",
    "                  dep.var.labels = \"ln Life Expectancy in 1960\", keep=c(\"ln_hla_het\"), \n",
    "                  column.labels=c(\"%European=0\", \"%European=(0;1)\", \"%European=1\", \"Full\"),\n",
    "                  column.sep.width = \"10pt\",  digits=4, no.space=TRUE,\n",
    "                  covariate.labels=c(\"ln HLA Heterozygosity\"))"
   ]
  },
  {
   "cell_type": "code",
   "execution_count": 15,
   "metadata": {},
   "outputs": [
    {
     "data": {
      "text/plain": [
       "\n",
       "Call:\n",
       "lm(formula = ln_le60 ~ ln_hla_het + aa_pdiv + ln_frac + aa_ln_atd + \n",
       "    ln_arable + ln_suitavg + ln_abslat + europe + africa + asia + \n",
       "    americas, data = hla_country_web, subset = distcr1000 != \n",
       "    \"NA\" & aa_pdiv != \"NA\" & malfal != \"NA\" & tropical != \"NA\" & \n",
       "    pnativ_60 != \"NA\")\n",
       "\n",
       "Residuals:\n",
       "     Min       1Q   Median       3Q      Max \n",
       "-0.49329 -0.06037  0.00781  0.07372  0.27135 \n",
       "\n",
       "Coefficients:\n",
       "             Estimate Std. Error t value Pr(>|t|)    \n",
       "(Intercept)  5.196418   0.811731   6.402 3.18e-09 ***\n",
       "ln_hla_het   1.077102   0.267620   4.025 0.000101 ***\n",
       "aa_pdiv     -0.278363   0.832380  -0.334 0.738652    \n",
       "ln_frac     -0.113391   0.078912  -1.437 0.153364    \n",
       "aa_ln_atd    0.040665   0.039475   1.030 0.305031    \n",
       "ln_arable   -0.008339   0.015263  -0.546 0.585860    \n",
       "ln_suitavg   0.007875   0.014476   0.544 0.587445    \n",
       "ln_abslat    0.020602   0.016469   1.251 0.213395    \n",
       "europe       0.039045   0.081417   0.480 0.632416    \n",
       "africa      -0.303156   0.088810  -3.414 0.000877 ***\n",
       "asia        -0.205855   0.078120  -2.635 0.009531 ** \n",
       "americas    -0.045389   0.078557  -0.578 0.564501    \n",
       "---\n",
       "Signif. codes:  0 '***' 0.001 '**' 0.01 '*' 0.05 '.' 0.1 ' ' 1\n",
       "\n",
       "Residual standard error: 0.1218 on 119 degrees of freedom\n",
       "  (44 observations deleted due to missingness)\n",
       "Multiple R-squared:  0.7449,\tAdjusted R-squared:  0.7213 \n",
       "F-statistic: 31.58 on 11 and 119 DF,  p-value: < 2.2e-16\n"
      ]
     },
     "metadata": {},
     "output_type": "display_data"
    },
    {
     "data": {
      "text/plain": [
       "\n",
       "Call:\n",
       "lm(formula = ln_le60 ~ ln_hla_het + aa_pdiv + ln_hla_het + malfal + \n",
       "    tropical + desert + ln_frac + aa_ln_atd + ln_arable + ln_suitavg + \n",
       "    ln_abslat + europe + africa + asia + americas, data = hla_country_web, \n",
       "    subset = distcr1000 != \"NA\" & aa_pdiv != \"NA\" & malfal != \n",
       "        \"NA\" & tropical != \"NA\" & pnativ_60 != \"NA\")\n",
       "\n",
       "Residuals:\n",
       "     Min       1Q   Median       3Q      Max \n",
       "-0.50609 -0.06769  0.00790  0.06232  0.25659 \n",
       "\n",
       "Coefficients:\n",
       "              Estimate Std. Error t value Pr(>|t|)    \n",
       "(Intercept)  4.4368764  0.8027329   5.527 2.03e-07 ***\n",
       "ln_hla_het   0.6126416  0.2805173   2.184 0.030977 *  \n",
       "aa_pdiv      0.7093535  0.8347645   0.850 0.397206    \n",
       "malfal      -0.1729166  0.0507154  -3.410 0.000896 ***\n",
       "tropical    -0.0003448  0.0005208  -0.662 0.509231    \n",
       "desert      -0.0014115  0.0015310  -0.922 0.358459    \n",
       "ln_frac     -0.0967928  0.0763874  -1.267 0.207647    \n",
       "aa_ln_atd    0.0008407  0.0396231   0.021 0.983108    \n",
       "ln_arable   -0.0026086  0.0147429  -0.177 0.859863    \n",
       "ln_suitavg   0.0045518  0.0151566   0.300 0.764471    \n",
       "ln_abslat   -0.0196719  0.0225771  -0.871 0.385378    \n",
       "europe       0.0424909  0.0779337   0.545 0.586650    \n",
       "africa      -0.2728139  0.0854900  -3.191 0.001823 ** \n",
       "asia        -0.1811694  0.0746724  -2.426 0.016798 *  \n",
       "americas    -0.0496188  0.0755212  -0.657 0.512471    \n",
       "---\n",
       "Signif. codes:  0 '***' 0.001 '**' 0.01 '*' 0.05 '.' 0.1 ' ' 1\n",
       "\n",
       "Residual standard error: 0.1157 on 116 degrees of freedom\n",
       "  (44 observations deleted due to missingness)\n",
       "Multiple R-squared:  0.7753,\tAdjusted R-squared:  0.7482 \n",
       "F-statistic: 28.59 on 14 and 116 DF,  p-value: < 2.2e-16\n"
      ]
     },
     "metadata": {},
     "output_type": "display_data"
    },
    {
     "data": {
      "text/plain": [
       "\n",
       "Call:\n",
       "lm(formula = ln_le60 ~ ln_hla_het + frac_migrant + ln_frac + \n",
       "    aa_ln_atd + ln_arable + ln_suitavg + ln_abslat + europe + \n",
       "    africa + asia + americas, data = hla_country_web, subset = distcr1000 != \n",
       "    \"NA\" & aa_pdiv != \"NA\" & malfal != \"NA\" & tropical != \"NA\" & \n",
       "    pnativ_60 != \"NA\")\n",
       "\n",
       "Residuals:\n",
       "     Min       1Q   Median       3Q      Max \n",
       "-0.47729 -0.06295  0.00722  0.06580  0.28144 \n",
       "\n",
       "Coefficients:\n",
       "              Estimate Std. Error t value Pr(>|t|)    \n",
       "(Intercept)   4.708443   0.433304  10.866  < 2e-16 ***\n",
       "ln_hla_het    0.869948   0.210203   4.139 6.55e-05 ***\n",
       "frac_migrant  0.098209   0.059433   1.652   0.1011    \n",
       "ln_frac      -0.144091   0.076038  -1.895   0.0605 .  \n",
       "aa_ln_atd     0.041594   0.037615   1.106   0.2710    \n",
       "ln_arable    -0.008539   0.015060  -0.567   0.5718    \n",
       "ln_suitavg    0.011369   0.014452   0.787   0.4330    \n",
       "ln_abslat     0.015788   0.016352   0.966   0.3362    \n",
       "europe        0.113322   0.092317   1.228   0.2220    \n",
       "africa       -0.252790   0.091068  -2.776   0.0064 ** \n",
       "asia         -0.147021   0.085022  -1.729   0.0864 .  \n",
       "americas     -0.042654   0.076108  -0.560   0.5762    \n",
       "---\n",
       "Signif. codes:  0 '***' 0.001 '**' 0.01 '*' 0.05 '.' 0.1 ' ' 1\n",
       "\n",
       "Residual standard error: 0.1205 on 119 degrees of freedom\n",
       "  (44 observations deleted due to missingness)\n",
       "Multiple R-squared:  0.7504,\tAdjusted R-squared:  0.7273 \n",
       "F-statistic: 32.52 on 11 and 119 DF,  p-value: < 2.2e-16\n"
      ]
     },
     "metadata": {},
     "output_type": "display_data"
    },
    {
     "data": {
      "text/plain": [
       "\n",
       "Call:\n",
       "lm(formula = ln_le60 ~ ln_hla_het + aa_pdiv + frac_migrant + \n",
       "    ln_hla_het + malfal + tropical + desert + ln_frac + aa_ln_atd + \n",
       "    ln_arable + ln_suitavg + ln_abslat + europe + africa + asia + \n",
       "    americas, data = hla_country_web, subset = distcr1000 != \n",
       "    \"NA\" & aa_pdiv != \"NA\" & malfal != \"NA\" & tropical != \"NA\" & \n",
       "    pnativ_60 != \"NA\")\n",
       "\n",
       "Residuals:\n",
       "     Min       1Q   Median       3Q      Max \n",
       "-0.49909 -0.05211  0.00440  0.06217  0.24834 \n",
       "\n",
       "Coefficients:\n",
       "               Estimate Std. Error t value Pr(>|t|)    \n",
       "(Intercept)   4.6502914  0.8050756   5.776 6.63e-08 ***\n",
       "ln_hla_het    0.5817241  0.2786370   2.088  0.03903 *  \n",
       "aa_pdiv       0.1578063  0.8857528   0.178  0.85891    \n",
       "frac_migrant  0.1079735  0.0618486   1.746  0.08352 .  \n",
       "malfal       -0.1678646  0.0503568  -3.334  0.00115 ** \n",
       "tropical     -0.0003982  0.0005171  -0.770  0.44285    \n",
       "desert       -0.0009068  0.0015449  -0.587  0.55837    \n",
       "ln_frac      -0.1038242  0.0758290  -1.369  0.17361    \n",
       "aa_ln_atd     0.0113972  0.0397407   0.287  0.77479    \n",
       "ln_arable    -0.0020442  0.0146181  -0.140  0.88903    \n",
       "ln_suitavg    0.0101676  0.0153650   0.662  0.50946    \n",
       "ln_abslat    -0.0243936  0.0225432  -1.082  0.28148    \n",
       "europe        0.1273729  0.0912817   1.395  0.16559    \n",
       "africa       -0.1934715  0.0961629  -2.012  0.04657 *  \n",
       "asia         -0.1168021  0.0826962  -1.412  0.16053    \n",
       "americas     -0.0608349  0.0751385  -0.810  0.41982    \n",
       "---\n",
       "Signif. codes:  0 '***' 0.001 '**' 0.01 '*' 0.05 '.' 0.1 ' ' 1\n",
       "\n",
       "Residual standard error: 0.1147 on 115 degrees of freedom\n",
       "  (44 observations deleted due to missingness)\n",
       "Multiple R-squared:  0.7811,\tAdjusted R-squared:  0.7526 \n",
       "F-statistic: 27.36 on 15 and 115 DF,  p-value: < 2.2e-16\n"
      ]
     },
     "metadata": {},
     "output_type": "display_data"
    }
   ],
   "source": [
    "###################################################################\n",
    "##########    TABLE_6: Exogenous Omitted Variables    #############\n",
    "###################################################################\n",
    "\n",
    "regt6_1<-lm(ln_le60~ln_hla_het+aa_pdiv+ln_frac+aa_ln_atd+ln_arable+ln_suitavg+ln_abslat+europe+africa+asia+americas,subset= distcr1000!=\"NA\" & aa_pdiv!=\"NA\" & malfal!=\"NA\"  & tropical!=\"NA\" & pnativ_60!=\"NA\" , data=hla_country_web)\n",
    "regt6_1robust<-coeftest(regt6_1, vcov = vcovHC(regt6_1, type=\"HC1\"))\n",
    "summary(regt6_1)\n",
    " \n",
    "\n",
    "regt6_2<-lm(ln_le60~ln_hla_het+aa_pdiv+ln_hla_het+malfal+tropical+desert+ln_frac+aa_ln_atd+ln_arable+ln_suitavg+ln_abslat+europe+africa+asia+americas,subset=distcr1000!=\"NA\" & aa_pdiv!=\"NA\" & malfal!=\"NA\"  & tropical!=\"NA\" & pnativ_60!=\"NA\" , data=hla_country_web)\n",
    "regt6_2robust<-coeftest(regt6_2, vcov = vcovHC(regt6_2, type=\"HC1\"))\n",
    "summary(regt6_2)\n",
    "\n",
    "\n",
    "regt6_3<-lm(ln_le60~ln_hla_het+frac_migrant+ln_frac+aa_ln_atd+ln_arable+ln_suitavg+ln_abslat+europe+africa+asia+americas,subset=distcr1000!=\"NA\" & aa_pdiv!=\"NA\" & malfal!=\"NA\"  & tropical!=\"NA\" & pnativ_60!=\"NA\" , data=hla_country_web)\n",
    "regt6_3robust<-coeftest(regt6_3, vcov = vcovHC(regt6_3, type=\"HC1\"))\n",
    "summary(regt6_3)\n",
    "\n",
    "\n",
    "regt6_4<-lm(ln_le60~ln_hla_het+aa_pdiv+frac_migrant+ln_hla_het+malfal+tropical+desert+ln_frac+aa_ln_atd+ln_arable+ln_suitavg+ln_abslat+europe+africa+asia+americas,subset=distcr1000!=\"NA\" & aa_pdiv!=\"NA\" & malfal!=\"NA\"  & tropical!=\"NA\" & pnativ_60!=\"NA\" , data=hla_country_web)\n",
    "regt6_4robust<-coeftest(regt6_4, vcov = vcovHC(regt6_4, type=\"HC1\"))\n",
    "summary(regt6_4)\n"
   ]
  },
  {
   "cell_type": "code",
   "execution_count": 16,
   "metadata": {},
   "outputs": [
    {
     "name": "stdout",
     "output_type": "stream",
     "text": [
      "\n",
      "====================================================\n",
      "                       Dependent variable:          \n",
      "             ---------------------------------------\n",
      "                                                    \n",
      "                (1)       (2)       (3)       (4)   \n",
      "----------------------------------------------------\n",
      "ln_hla_het   1.077***   0.613*   0.870***   0.582*  \n",
      "              (0.340)   (0.319)   (0.224)   (0.313) \n",
      "                                                    \n",
      "aa_pdiv       -0.278     0.709               0.158  \n",
      "              (1.200)   (0.974)             (1.015) \n",
      "                                                    \n",
      "malfal                 -0.173***           -0.168***\n",
      "                        (0.049)             (0.048) \n",
      "                                                    \n",
      "tropical                -0.0003             -0.0004 \n",
      "                        (0.001)             (0.001) \n",
      "                                                    \n",
      "desert                  -0.001              -0.001  \n",
      "                        (0.001)             (0.002) \n",
      "                                                    \n",
      "frac_migrant                       0.098     0.108  \n",
      "                                  (0.063)   (0.071) \n",
      "                                                    \n",
      "ln_frac       -0.113    -0.097    -0.144    -0.104  \n",
      "              (0.107)   (0.104)   (0.099)   (0.106) \n",
      "                                                    \n",
      "aa_ln_atd      0.041     0.001     0.042     0.011  \n",
      "              (0.047)   (0.037)   (0.040)   (0.037) \n",
      "                                                    \n",
      "ln_arable     -0.008    -0.003    -0.009    -0.002  \n",
      "              (0.016)   (0.013)   (0.016)   (0.012) \n",
      "                                                    \n",
      "ln_suitavg     0.008     0.005     0.011     0.010  \n",
      "              (0.013)   (0.013)   (0.012)   (0.012) \n",
      "                                                    \n",
      "ln_abslat      0.021    -0.020     0.016    -0.024  \n",
      "              (0.016)   (0.018)   (0.016)   (0.018) \n",
      "                                                    \n",
      "europe         0.039     0.042     0.113     0.127  \n",
      "              (0.070)   (0.077)   (0.085)   (0.094) \n",
      "                                                    \n",
      "africa       -0.303*** -0.273*** -0.253***  -0.193* \n",
      "              (0.087)   (0.088)   (0.081)   (0.102) \n",
      "                                                    \n",
      "asia         -0.206*** -0.181**   -0.147*   -0.117  \n",
      "              (0.074)   (0.081)   (0.080)   (0.088) \n",
      "                                                    \n",
      "americas      -0.045    -0.050    -0.043    -0.061  \n",
      "              (0.078)   (0.082)   (0.068)   (0.071) \n",
      "                                                    \n",
      "Constant     5.196***  4.437***  4.708***  4.650*** \n",
      "              (1.001)   (0.888)   (0.439)   (0.876) \n",
      "                                                    \n",
      "====================================================\n",
      "====================================================\n",
      "Note:                    *p<0.1; **p<0.05; ***p<0.01\n"
     ]
    }
   ],
   "source": [
    "Table6<-stargazer(regt6_1robust,regt6_2robust,regt6_3robust,regt6_4robust,\n",
    "                  type=\"text\", align = TRUE)"
   ]
  },
  {
   "cell_type": "code",
   "execution_count": 17,
   "metadata": {},
   "outputs": [
    {
     "data": {
      "text/plain": [
       "\n",
       "Call:\n",
       "lm(formula = ln_le60 ~ ln_hla_het + ln_frac + aa_ln_atd + ln_arable + \n",
       "    ln_suitavg + ln_abslat + europe + africa + asia + americas, \n",
       "    data = hla_country_web, subset = ln_ypc60 != \"NA\" & ln_yr_sch1960 != \n",
       "        \"NA\" & ln_pd60 != \"NA\" & ln_urb60 != \"NA\" & ln_young != \n",
       "        \"NA\")\n",
       "\n",
       "Residuals:\n",
       "     Min       1Q   Median       3Q      Max \n",
       "-0.48437 -0.04816  0.00643  0.06730  0.30371 \n",
       "\n",
       "Coefficients:\n",
       "             Estimate Std. Error t value Pr(>|t|)    \n",
       "(Intercept)  5.075976   0.435901  11.645  < 2e-16 ***\n",
       "ln_hla_het   0.999959   0.202655   4.934 3.29e-06 ***\n",
       "ln_frac     -0.068797   0.080539  -0.854  0.39508    \n",
       "aa_ln_atd    0.022079   0.041794   0.528  0.59850    \n",
       "ln_arable   -0.020301   0.016533  -1.228  0.22243    \n",
       "ln_suitavg   0.007012   0.015235   0.460  0.64633    \n",
       "ln_abslat    0.016946   0.017460   0.971  0.33417    \n",
       "europe       0.082177   0.081488   1.008  0.31572    \n",
       "africa      -0.303860   0.086142  -3.527  0.00064 ***\n",
       "asia        -0.198774   0.078794  -2.523  0.01326 *  \n",
       "americas    -0.033717   0.076160  -0.443  0.65895    \n",
       "---\n",
       "Signif. codes:  0 '***' 0.001 '**' 0.01 '*' 0.05 '.' 0.1 ' ' 1\n",
       "\n",
       "Residual standard error: 0.12 on 98 degrees of freedom\n",
       "  (66 observations deleted due to missingness)\n",
       "Multiple R-squared:  0.7378,\tAdjusted R-squared:  0.711 \n",
       "F-statistic: 27.58 on 10 and 98 DF,  p-value: < 2.2e-16\n"
      ]
     },
     "metadata": {},
     "output_type": "display_data"
    },
    {
     "data": {
      "text/plain": [
       "\n",
       "Call:\n",
       "lm(formula = ln_le60 ~ ln_hla_het + ln_ypc60 + ln_frac + aa_ln_atd + \n",
       "    ln_arable + ln_suitavg + ln_abslat + europe + africa + asia + \n",
       "    americas, data = hla_country_web, subset = ln_ypc60 != \"NA\" & \n",
       "    ln_yr_sch1960 != \"NA\" & ln_pd60 != \"NA\" & ln_urb60 != \"NA\" & \n",
       "    ln_young != \"NA\")\n",
       "\n",
       "Residuals:\n",
       "     Min       1Q   Median       3Q      Max \n",
       "-0.36913 -0.05115 -0.00077  0.05649  0.25210 \n",
       "\n",
       "Coefficients:\n",
       "              Estimate Std. Error t value Pr(>|t|)    \n",
       "(Intercept)  4.0474992  0.4156969   9.737 4.97e-16 ***\n",
       "ln_hla_het   0.6574851  0.1846542   3.561 0.000575 ***\n",
       "ln_ypc60     0.0977108  0.0167017   5.850 6.64e-08 ***\n",
       "ln_frac     -0.1265309  0.0702960  -1.800 0.074974 .  \n",
       "aa_ln_atd   -0.0006487  0.0363256  -0.018 0.985789    \n",
       "ln_arable   -0.0105789  0.0143837  -0.735 0.463824    \n",
       "ln_suitavg   0.0290353  0.0136934   2.120 0.036524 *  \n",
       "ln_abslat    0.0089705  0.0151501   0.592 0.555156    \n",
       "europe       0.0967317  0.0704638   1.373 0.172985    \n",
       "africa      -0.1342940  0.0798851  -1.681 0.095963 .  \n",
       "asia        -0.0661328  0.0717676  -0.921 0.359083    \n",
       "americas     0.0155832  0.0663525   0.235 0.814816    \n",
       "---\n",
       "Signif. codes:  0 '***' 0.001 '**' 0.01 '*' 0.05 '.' 0.1 ' ' 1\n",
       "\n",
       "Residual standard error: 0.1037 on 97 degrees of freedom\n",
       "  (66 observations deleted due to missingness)\n",
       "Multiple R-squared:  0.8062,\tAdjusted R-squared:  0.7842 \n",
       "F-statistic: 36.68 on 11 and 97 DF,  p-value: < 2.2e-16\n"
      ]
     },
     "metadata": {},
     "output_type": "display_data"
    },
    {
     "data": {
      "text/plain": [
       "\n",
       "Call:\n",
       "lm(formula = ln_le60 ~ ln_hla_het + ln_yr_sch1960 + ln_frac + \n",
       "    aa_ln_atd + ln_arable + ln_suitavg + ln_abslat + europe + \n",
       "    africa + asia + americas, data = hla_country_web, subset = ln_ypc60 != \n",
       "    \"NA\" & ln_yr_sch1960 != \"NA\" & ln_pd60 != \"NA\" & ln_urb60 != \n",
       "    \"NA\" & ln_young != \"NA\")\n",
       "\n",
       "Residuals:\n",
       "      Min        1Q    Median        3Q       Max \n",
       "-0.259833 -0.044515  0.001145  0.046709  0.179913 \n",
       "\n",
       "Coefficients:\n",
       "               Estimate Std. Error t value Pr(>|t|)    \n",
       "(Intercept)    3.990270   0.323522  12.334  < 2e-16 ***\n",
       "ln_hla_het     0.612726   0.146980   4.169 6.66e-05 ***\n",
       "ln_yr_sch1960  0.132013   0.013021  10.139  < 2e-16 ***\n",
       "ln_frac       -0.024146   0.056578  -0.427   0.6705    \n",
       "aa_ln_atd      0.071103   0.029667   2.397   0.0185 *  \n",
       "ln_arable      0.004400   0.011832   0.372   0.7108    \n",
       "ln_suitavg    -0.008141   0.010774  -0.756   0.4517    \n",
       "ln_abslat      0.005958   0.012276   0.485   0.6285    \n",
       "europe         0.028567   0.057315   0.498   0.6193    \n",
       "africa        -0.123906   0.062887  -1.970   0.0517 .  \n",
       "asia          -0.152569   0.055372  -2.755   0.0070 ** \n",
       "americas      -0.031796   0.053339  -0.596   0.5525    \n",
       "---\n",
       "Signif. codes:  0 '***' 0.001 '**' 0.01 '*' 0.05 '.' 0.1 ' ' 1\n",
       "\n",
       "Residual standard error: 0.08403 on 97 degrees of freedom\n",
       "  (66 observations deleted due to missingness)\n",
       "Multiple R-squared:  0.8727,\tAdjusted R-squared:  0.8583 \n",
       "F-statistic: 60.45 on 11 and 97 DF,  p-value: < 2.2e-16\n"
      ]
     },
     "metadata": {},
     "output_type": "display_data"
    },
    {
     "data": {
      "text/plain": [
       "\n",
       "Call:\n",
       "lm(formula = ln_le60 ~ ln_hla_het + ln_pd60 + ln_urb60 + ln_young + \n",
       "    ln_frac + aa_ln_atd + ln_arable + ln_suitavg + ln_abslat + \n",
       "    europe + africa + asia + americas, data = hla_country_web, \n",
       "    subset = ln_ypc60 != \"NA\" & ln_yr_sch1960 != \"NA\" & ln_pd60 != \n",
       "        \"NA\" & ln_urb60 != \"NA\" & ln_young != \"NA\")\n",
       "\n",
       "Residuals:\n",
       "      Min        1Q    Median        3Q       Max \n",
       "-0.300764 -0.043457 -0.009262  0.061716  0.245806 \n",
       "\n",
       "Coefficients:\n",
       "              Estimate Std. Error t value Pr(>|t|)    \n",
       "(Intercept)  5.5230912  0.4641918  11.898  < 2e-16 ***\n",
       "ln_hla_het   0.7528765  0.1766469   4.262 4.77e-05 ***\n",
       "ln_pd60      0.0001866  0.0141599   0.013  0.98951    \n",
       "ln_urb60     0.1137048  0.0177831   6.394 6.02e-09 ***\n",
       "ln_young    -0.0614235  0.0915465  -0.671  0.50388    \n",
       "ln_frac     -0.1367887  0.0734167  -1.863  0.06553 .  \n",
       "aa_ln_atd   -0.0755990  0.0374562  -2.018  0.04638 *  \n",
       "ln_arable   -0.0064507  0.0173545  -0.372  0.71094    \n",
       "ln_suitavg   0.0133635  0.0131086   1.019  0.31058    \n",
       "ln_abslat   -0.0097970  0.0155962  -0.628  0.53140    \n",
       "europe       0.0512724  0.0733536   0.699  0.48627    \n",
       "africa      -0.2301636  0.0746173  -3.085  0.00267 ** \n",
       "asia        -0.1139927  0.0715206  -1.594  0.11429    \n",
       "americas    -0.0694855  0.0673081  -1.032  0.30453    \n",
       "---\n",
       "Signif. codes:  0 '***' 0.001 '**' 0.01 '*' 0.05 '.' 0.1 ' ' 1\n",
       "\n",
       "Residual standard error: 0.09939 on 95 degrees of freedom\n",
       "  (66 observations deleted due to missingness)\n",
       "Multiple R-squared:  0.8256,\tAdjusted R-squared:  0.8017 \n",
       "F-statistic: 34.59 on 13 and 95 DF,  p-value: < 2.2e-16\n"
      ]
     },
     "metadata": {},
     "output_type": "display_data"
    },
    {
     "data": {
      "text/plain": [
       "\n",
       "Call:\n",
       "lm(formula = ln_le60 ~ ln_hla_het + ln_ypc60 + ln_yr_sch1960 + \n",
       "    ln_pd60 + ln_urb60 + ln_young + ln_frac + aa_ln_atd + ln_arable + \n",
       "    ln_suitavg + ln_abslat + europe + africa + asia + americas, \n",
       "    data = hla_country_web, subset = ln_ypc60 != \"NA\" & ln_yr_sch1960 != \n",
       "        \"NA\" & ln_pd60 != \"NA\" & ln_urb60 != \"NA\" & ln_young != \n",
       "        \"NA\")\n",
       "\n",
       "Residuals:\n",
       "     Min       1Q   Median       3Q      Max \n",
       "-0.21803 -0.03882  0.00079  0.04623  0.22772 \n",
       "\n",
       "Coefficients:\n",
       "                Estimate Std. Error t value Pr(>|t|)    \n",
       "(Intercept)    4.0482107  0.4849748   8.347 6.35e-13 ***\n",
       "ln_hla_het     0.5295807  0.1467296   3.609 0.000497 ***\n",
       "ln_ypc60       0.0280348  0.0183296   1.529 0.129539    \n",
       "ln_yr_sch1960  0.1036749  0.0149946   6.914 5.84e-10 ***\n",
       "ln_pd60        0.0062813  0.0116550   0.539 0.591220    \n",
       "ln_urb60       0.0342884  0.0196702   1.743 0.084609 .  \n",
       "ln_young      -0.0148321  0.0771438  -0.192 0.847953    \n",
       "ln_frac       -0.0582461  0.0607576  -0.959 0.340214    \n",
       "aa_ln_atd      0.0241980  0.0330670   0.732 0.466138    \n",
       "ln_arable      0.0014524  0.0140344   0.103 0.917800    \n",
       "ln_suitavg     0.0023245  0.0117470   0.198 0.843568    \n",
       "ln_abslat     -0.0001829  0.0126272  -0.014 0.988474    \n",
       "europe         0.0255091  0.0607972   0.420 0.675762    \n",
       "africa        -0.0977019  0.0649752  -1.504 0.136052    \n",
       "asia          -0.1094776  0.0599032  -1.828 0.070820 .  \n",
       "americas      -0.0341981  0.0551987  -0.620 0.537072    \n",
       "---\n",
       "Signif. codes:  0 '***' 0.001 '**' 0.01 '*' 0.05 '.' 0.1 ' ' 1\n",
       "\n",
       "Residual standard error: 0.07987 on 93 degrees of freedom\n",
       "  (66 observations deleted due to missingness)\n",
       "Multiple R-squared:  0.8897,\tAdjusted R-squared:  0.872 \n",
       "F-statistic: 50.03 on 15 and 93 DF,  p-value: < 2.2e-16\n"
      ]
     },
     "metadata": {},
     "output_type": "display_data"
    }
   ],
   "source": [
    "####################################################################\n",
    "##########    TABLE_7: Endogenous Omitted Variables    #############\n",
    "####################################################################\n",
    "\n",
    "regt7_1<-lm(ln_le60~ln_hla_het+ln_frac+aa_ln_atd+ln_arable+ln_suitavg+ln_abslat+europe+africa+asia+americas,subset = ln_ypc60!=\"NA\" & ln_yr_sch1960!=\"NA\" & ln_pd60!=\"NA\" & ln_urb60!=\"NA\" & ln_young!=\"NA\", data=hla_country_web)\n",
    "regt7_1robust<-coeftest(regt7_1, vcov = vcovHC(regt7_1, type=\"HC1\"))\n",
    "summary(regt7_1)\n",
    "\n",
    "regt7_2<-lm(ln_le60~ln_hla_het+ln_ypc60+ln_frac+aa_ln_atd+ln_arable+ln_suitavg+ln_abslat+europe+africa+asia+americas,subset = ln_ypc60!=\"NA\" & ln_yr_sch1960!=\"NA\" & ln_pd60!=\"NA\" & ln_urb60!=\"NA\" & ln_young!=\"NA\", data=hla_country_web)\n",
    "regt7_2robust<-coeftest(regt7_2, vcov = vcovHC(regt7_2, type=\"HC1\"))\n",
    "summary(regt7_2)\n",
    "\n",
    "regt7_3<-lm(ln_le60~ln_hla_het+ln_yr_sch1960+ln_frac+aa_ln_atd+ln_arable+ln_suitavg+ln_abslat+europe+africa+asia+americas,subset = ln_ypc60!=\"NA\" & ln_yr_sch1960!=\"NA\" & ln_pd60!=\"NA\" & ln_urb60!=\"NA\" & ln_young!=\"NA\", data=hla_country_web)\n",
    "regt7_3robust<-coeftest(regt7_3, vcov = vcovHC(regt7_3, type=\"HC1\"))\n",
    "summary(regt7_3)\n",
    "\n",
    "regt7_4<-lm(ln_le60~ln_hla_het+ln_pd60+ln_urb60+ln_young+ln_frac+aa_ln_atd+ln_arable+ln_suitavg+ln_abslat+europe+africa+asia+americas,subset = ln_ypc60!=\"NA\" & ln_yr_sch1960!=\"NA\" & ln_pd60!=\"NA\" & ln_urb60!=\"NA\" & ln_young!=\"NA\", data=hla_country_web)\n",
    "regt7_4robust<-coeftest(regt7_4, vcov = vcovHC(regt7_4, type=\"HC1\"))\n",
    "summary(regt7_4)\n",
    "\n",
    "regt7_5<-lm(ln_le60~ln_hla_het+ln_ypc60+ln_yr_sch1960+ln_pd60+ln_urb60+ln_young+ln_frac+aa_ln_atd+ln_arable+ln_suitavg+ln_abslat+europe+africa+asia+americas,subset = ln_ypc60!=\"NA\" & ln_yr_sch1960!=\"NA\" & ln_pd60!=\"NA\" & ln_urb60!=\"NA\" & ln_young!=\"NA\", data=hla_country_web)\n",
    "regt7_5robust<-coeftest(regt7_5, vcov = vcovHC(regt7_5, type=\"HC1\"))\n",
    "summary(regt7_5)\n"
   ]
  },
  {
   "cell_type": "code",
   "execution_count": 18,
   "metadata": {},
   "outputs": [
    {
     "name": "stdout",
     "output_type": "stream",
     "text": [
      "\n",
      "Table 7: Robustness to Endogenous Omitted Variables\n",
      "==================================================================================================\n",
      "                                                                Dependent variable:               \n",
      "                                                 -------------------------------------------------\n",
      "                                                            ln Life Expectancy in 1960            \n",
      "                                                    (1)       (2)       (3)       (4)       (5)   \n",
      "--------------------------------------------------------------------------------------------------\n",
      "ln HLA Heterozygosity                            1.0000*** 0.6575*** 0.6127*** 0.7529*** 0.5296***\n",
      "                                                 (0.2118)  (0.2124)  (0.1633)  (0.1944)  (0.1673) \n",
      "ln GDP per Capita in 1960                                  0.0977***                      0.0280* \n",
      "                                                           (0.0221)                      (0.0167) \n",
      "ln Avg. Years of School in 1960                                      0.1320***           0.1037***\n",
      "                                                                     (0.0195)            (0.0190) \n",
      "ln Population Density in 1960                                                   0.0002    0.0063  \n",
      "                                                                               (0.0152)  (0.0126) \n",
      "ln Urbanization Rate in 1960                                                   0.1137***  0.0343* \n",
      "                                                                               (0.0223)  (0.0195) \n",
      "ln Fraction of Population under 15 Years in 1960                                -0.0614   -0.0148 \n",
      "                                                                               (0.0887)  (0.0685) \n",
      "==================================================================================================\n",
      "==================================================================================================\n",
      "Note:                                                                  *p<0.1; **p<0.05; ***p<0.01\n"
     ]
    }
   ],
   "source": [
    "Table7<-stargazer(regt7_1robust,regt7_2robust,regt7_3robust,regt7_4robust,regt7_5robust,\n",
    "                  type=\"text\", align = TRUE, title = \"Table 7: Robustness to Endogenous Omitted Variables\",\n",
    "                  dep.var.labels = \"ln Life Expectancy in 1960\", keep=c(\"ln_hla_het\", \"ln_ypc60\", \"ln_yr_sch1960\",\n",
    "                                                                       \"ln_pd60\", \"ln_urb60\", \"ln_young\"),\n",
    "                  column.sep.width = \"10pt\",  digits=4, no.space=TRUE,\n",
    "                  covariate.labels=c(\"ln HLA Heterozygosity\", \"ln GDP per Capita in 1960\", \"ln Avg. Years of School in 1960\",\n",
    "                                     \"ln Population Density in 1960\", \"ln Urbanization Rate in 1960\", \"ln Fraction of Population under 15 Years in 1960\"))"
   ]
  },
  {
   "cell_type": "code",
   "execution_count": null,
   "metadata": {},
   "outputs": [],
   "source": []
  },
  {
   "cell_type": "code",
   "execution_count": null,
   "metadata": {},
   "outputs": [],
   "source": []
  }
 ],
 "metadata": {
  "kernelspec": {
   "display_name": "R",
   "language": "R",
   "name": "ir"
  },
  "language_info": {
   "codemirror_mode": "r",
   "file_extension": ".r",
   "mimetype": "text/x-r-source",
   "name": "R",
   "pygments_lexer": "r",
   "version": "3.6.1"
  }
 },
 "nbformat": 4,
 "nbformat_minor": 4
}
